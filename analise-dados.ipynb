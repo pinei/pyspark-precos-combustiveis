{
 "cells": [
  {
   "attachments": {},
   "cell_type": "markdown",
   "id": "83e89c6f-fd86-4a00-a408-7b7408fb996a",
   "metadata": {},
   "source": [
    "Projeto em PySpark para dados de preços de combustíveis da ANP.\n",
    "\n",
    "O trabalho faz uso de dados publicados pela ANP (Agência Nacional de Petróleo)\n",
    "\n",
    "> Em cumprimento às determinações da Lei do Petróleo (Lei nº 9478/1997, artigo 8º), a ANP acompanha os preços praticados por revendedores de combustíveis automotivos e de gás liquefeito de petróleo envasilhado em botijões de 13 quilos (GLP P13), por meio de uma pesquisa semanal de preços realizada por empresa contratada.\n",
    "\n",
    "- [Série Histórica de Preços de Combustíveis e de GLP](https://www.gov.br/anp/pt-br/centrais-de-conteudo/dados-abertos/serie-historica-de-precos-de-combustiveis)\n",
    "\n",
    "Coletamos a série histórica de \"Combustíveis automotivos\" que vai de 2004 a 2023. São 39 arquivos CSV totalizando aproximadamente 3.7 GB.\n",
    "\n",
    "![Amostra dos dados](./assets/amostra_planilha_revenda.png)"
   ]
  },
  {
   "cell_type": "markdown",
   "id": "a77acdcc-ce95-4c24-b234-15a5b5ac5b8d",
   "metadata": {},
   "source": [
    "\n",
    "Aproveitando a configuração de cluster da Google Cloud Platform criada para o [projeto Hadoop](https://github.com/pinei/hadoop-precos-combustiveis), incluímos o JupyterLab para trabalhar com o PySpark.\n",
    "\n",
    "![cluster-info](./assets/cluster_info.png)"
   ]
  }
 ],
 "metadata": {
  "kernelspec": {
   "display_name": "Python 3 (ipykernel)",
   "language": "python",
   "name": "python3"
  },
  "language_info": {
   "codemirror_mode": {
    "name": "ipython",
    "version": 3
   },
   "file_extension": ".py",
   "mimetype": "text/x-python",
   "name": "python",
   "nbconvert_exporter": "python",
   "pygments_lexer": "ipython3",
   "version": "3.11.5"
  }
 },
 "nbformat": 4,
 "nbformat_minor": 5
}
