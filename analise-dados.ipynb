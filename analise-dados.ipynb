{
 "cells": [
  {
   "cell_type": "markdown",
   "id": "83e89c6f-fd86-4a00-a408-7b7408fb996a",
   "metadata": {},
   "source": [
    "Projeto em PySpark para dados de preços de combustíveis da ANP.\n",
    "\n",
    "O trabalho faz uso de dados publicados pela ANP (Agência Nacional de Petróleo)\n",
    "\n",
    "> Em cumprimento às determinações da Lei do Petróleo (Lei nº 9478/1997, artigo 8º), a ANP acompanha os preços praticados por revendedores de combustíveis automotivos e de gás liquefeito de petróleo envasilhado em botijões de 13 quilos (GLP P13), por meio de uma pesquisa semanal de preços realizada por empresa contratada.\n",
    "\n",
    "- [Série Histórica de Preços de Combustíveis e de GLP](https://www.gov.br/anp/pt-br/centrais-de-conteudo/dados-abertos/serie-historica-de-precos-de-combustiveis)\n",
    "\n",
    "Coletamos a série histórica de \"Combustíveis automotivos\" que vai de 2004 a 2023. São 39 arquivos CSV totalizando aproximadamente 3.7 GB.\n",
    "\n",
    "![Amostra dos dados](./assets/amostra_planilha_revenda.png)"
   ]
  },
  {
   "cell_type": "markdown",
   "id": "a77acdcc-ce95-4c24-b234-15a5b5ac5b8d",
   "metadata": {},
   "source": [
    "\n",
    "Aproveitando a configuração de cluster da Google Cloud Platform criada para o [projeto Hadoop](https://github.com/pinei/hadoop-precos-combustiveis), incluímos o JupyterLab para trabalhar com o PySpark.\n",
    "\n",
    "![cluster-info](./assets/cluster_info.png)"
   ]
  },
  {
   "cell_type": "markdown",
   "id": "65a0f7c5-47e4-4d38-855d-63edb15a9667",
   "metadata": {},
   "source": [
    "### Ingestão\n",
    "\n",
    "Os arquivos CSV já estão organizados em um bucket do Google Cloud Storage.\n",
    "\n",
    "> `https://console.cloud.google.com/storage/browser/hadoop-dados-brutos`\n",
    "\n",
    "Optamos por usar uma API Python para trazer os arquivos do storage e trabalhar com eles no cluster ou na máquina local (a depender de como estamos executando este notebook)."
   ]
  },
  {
   "cell_type": "code",
   "execution_count": 1,
   "id": "723d50f2-6aad-4cf0-bc17-d93441c3f0af",
   "metadata": {},
   "outputs": [
    {
     "name": "stdout",
     "output_type": "stream",
     "text": [
      "Collecting google-cloud-storage\n",
      "  Obtaining dependency information for google-cloud-storage from https://files.pythonhosted.org/packages/68/b8/cb00819641313e67b640857ffff2c5afdcdcfb4940def9f1502bf614a6d9/google_cloud_storage-2.12.0-py2.py3-none-any.whl.metadata\n",
      "  Downloading google_cloud_storage-2.12.0-py2.py3-none-any.whl.metadata (6.1 kB)\n",
      "Collecting google-auth<3.0dev,>=2.23.3 (from google-cloud-storage)\n",
      "  Obtaining dependency information for google-auth<3.0dev,>=2.23.3 from https://files.pythonhosted.org/packages/39/7c/2e4fa55a99f83ef9ef229ac5d59c44ceb90e2d0145711590c0fa39669f32/google_auth-2.23.3-py2.py3-none-any.whl.metadata\n",
      "  Downloading google_auth-2.23.3-py2.py3-none-any.whl.metadata (4.2 kB)\n",
      "Collecting google-api-core!=2.0.*,!=2.1.*,!=2.2.*,!=2.3.0,<3.0.0dev,>=1.31.5 (from google-cloud-storage)\n",
      "  Obtaining dependency information for google-api-core!=2.0.*,!=2.1.*,!=2.2.*,!=2.3.0,<3.0.0dev,>=1.31.5 from https://files.pythonhosted.org/packages/4d/ce/4fd62ea66b3508debc795e475336ce915929765870f0ad52328426ba016e/google_api_core-2.12.0-py3-none-any.whl.metadata\n",
      "  Downloading google_api_core-2.12.0-py3-none-any.whl.metadata (2.7 kB)\n",
      "Collecting google-cloud-core<3.0dev,>=2.3.0 (from google-cloud-storage)\n",
      "  Obtaining dependency information for google-cloud-core<3.0dev,>=2.3.0 from https://files.pythonhosted.org/packages/a2/40/02045f776fdb6e44194f34b6375a26ce8a61bd9bd03cd8930ed91cf51a62/google_cloud_core-2.3.3-py2.py3-none-any.whl.metadata\n",
      "  Downloading google_cloud_core-2.3.3-py2.py3-none-any.whl.metadata (2.5 kB)\n",
      "Collecting google-resumable-media>=2.6.0 (from google-cloud-storage)\n",
      "  Obtaining dependency information for google-resumable-media>=2.6.0 from https://files.pythonhosted.org/packages/c7/4f/b8e5e22406e5aeafa46df8799939d5eeee52f18eeed339675167fac6603a/google_resumable_media-2.6.0-py2.py3-none-any.whl.metadata\n",
      "  Downloading google_resumable_media-2.6.0-py2.py3-none-any.whl.metadata (2.1 kB)\n",
      "Requirement already satisfied: requests<3.0.0dev,>=2.18.0 in /opt/conda/lib/python3.11/site-packages (from google-cloud-storage) (2.31.0)\n",
      "Collecting google-crc32c<2.0dev,>=1.0 (from google-cloud-storage)\n",
      "  Downloading google_crc32c-1.5.0-cp311-cp311-manylinux_2_17_aarch64.manylinux2014_aarch64.whl (32 kB)\n",
      "Collecting googleapis-common-protos<2.0.dev0,>=1.56.2 (from google-api-core!=2.0.*,!=2.1.*,!=2.2.*,!=2.3.0,<3.0.0dev,>=1.31.5->google-cloud-storage)\n",
      "  Obtaining dependency information for googleapis-common-protos<2.0.dev0,>=1.56.2 from https://files.pythonhosted.org/packages/21/49/12996dc0238e017504dceea1d121a48bd49fb3f4416f40d59fc3e924b4f3/googleapis_common_protos-1.61.0-py2.py3-none-any.whl.metadata\n",
      "  Downloading googleapis_common_protos-1.61.0-py2.py3-none-any.whl.metadata (1.5 kB)\n",
      "Requirement already satisfied: protobuf!=3.20.0,!=3.20.1,!=4.21.0,!=4.21.1,!=4.21.2,!=4.21.3,!=4.21.4,!=4.21.5,<5.0.0.dev0,>=3.19.5 in /opt/conda/lib/python3.11/site-packages (from google-api-core!=2.0.*,!=2.1.*,!=2.2.*,!=2.3.0,<3.0.0dev,>=1.31.5->google-cloud-storage) (4.23.4)\n",
      "Collecting cachetools<6.0,>=2.0.0 (from google-auth<3.0dev,>=2.23.3->google-cloud-storage)\n",
      "  Obtaining dependency information for cachetools<6.0,>=2.0.0 from https://files.pythonhosted.org/packages/a9/c9/c8a7710f2cedcb1db9224fdd4d8307c9e48cbddc46c18b515fefc0f1abbe/cachetools-5.3.1-py3-none-any.whl.metadata\n",
      "  Downloading cachetools-5.3.1-py3-none-any.whl.metadata (5.2 kB)\n",
      "Collecting pyasn1-modules>=0.2.1 (from google-auth<3.0dev,>=2.23.3->google-cloud-storage)\n",
      "  Downloading pyasn1_modules-0.3.0-py2.py3-none-any.whl (181 kB)\n",
      "\u001b[2K     \u001b[90m━━━━━━━━━━━━━━━━━━━━━━━━━━━━━━━━━━━━━━━\u001b[0m \u001b[32m181.3/181.3 kB\u001b[0m \u001b[31m4.2 MB/s\u001b[0m eta \u001b[36m0:00:00\u001b[0ma \u001b[36m0:00:01\u001b[0m\n",
      "\u001b[?25hCollecting rsa<5,>=3.1.4 (from google-auth<3.0dev,>=2.23.3->google-cloud-storage)\n",
      "  Downloading rsa-4.9-py3-none-any.whl (34 kB)\n",
      "Requirement already satisfied: charset-normalizer<4,>=2 in /opt/conda/lib/python3.11/site-packages (from requests<3.0.0dev,>=2.18.0->google-cloud-storage) (3.2.0)\n",
      "Requirement already satisfied: idna<4,>=2.5 in /opt/conda/lib/python3.11/site-packages (from requests<3.0.0dev,>=2.18.0->google-cloud-storage) (3.4)\n",
      "Requirement already satisfied: urllib3<3,>=1.21.1 in /opt/conda/lib/python3.11/site-packages (from requests<3.0.0dev,>=2.18.0->google-cloud-storage) (2.0.5)\n",
      "Requirement already satisfied: certifi>=2017.4.17 in /opt/conda/lib/python3.11/site-packages (from requests<3.0.0dev,>=2.18.0->google-cloud-storage) (2023.7.22)\n",
      "Collecting pyasn1<0.6.0,>=0.4.6 (from pyasn1-modules>=0.2.1->google-auth<3.0dev,>=2.23.3->google-cloud-storage)\n",
      "  Downloading pyasn1-0.5.0-py2.py3-none-any.whl (83 kB)\n",
      "\u001b[2K     \u001b[90m━━━━━━━━━━━━━━━━━━━━━━━━━━━━━━━━━━━━━━━━\u001b[0m \u001b[32m83.9/83.9 kB\u001b[0m \u001b[31m3.3 MB/s\u001b[0m eta \u001b[36m0:00:00\u001b[0m\n",
      "\u001b[?25hDownloading google_cloud_storage-2.12.0-py2.py3-none-any.whl (120 kB)\n",
      "\u001b[2K   \u001b[90m━━━━━━━━━━━━━━━━━━━━━━━━━━━━━━━━━━━━━━━━\u001b[0m \u001b[32m120.5/120.5 kB\u001b[0m \u001b[31m3.6 MB/s\u001b[0m eta \u001b[36m0:00:00\u001b[0m\n",
      "\u001b[?25hDownloading google_api_core-2.12.0-py3-none-any.whl (121 kB)\n",
      "\u001b[2K   \u001b[90m━━━━━━━━━━━━━━━━━━━━━━━━━━━━━━━━━━━━━━━━\u001b[0m \u001b[32m121.4/121.4 kB\u001b[0m \u001b[31m4.8 MB/s\u001b[0m eta \u001b[36m0:00:00\u001b[0m\n",
      "\u001b[?25hDownloading google_auth-2.23.3-py2.py3-none-any.whl (182 kB)\n",
      "\u001b[2K   \u001b[90m━━━━━━━━━━━━━━━━━━━━━━━━━━━━━━━━━━━━━━━━\u001b[0m \u001b[32m182.3/182.3 kB\u001b[0m \u001b[31m2.7 MB/s\u001b[0m eta \u001b[36m0:00:00\u001b[0ma \u001b[36m0:00:01\u001b[0m\n",
      "\u001b[?25hDownloading google_cloud_core-2.3.3-py2.py3-none-any.whl (29 kB)\n",
      "Downloading google_resumable_media-2.6.0-py2.py3-none-any.whl (80 kB)\n",
      "\u001b[2K   \u001b[90m━━━━━━━━━━━━━━━━━━━━━━━━━━━━━━━━━━━━━━━━\u001b[0m \u001b[32m80.3/80.3 kB\u001b[0m \u001b[31m3.4 MB/s\u001b[0m eta \u001b[36m0:00:00\u001b[0m\n",
      "\u001b[?25hDownloading cachetools-5.3.1-py3-none-any.whl (9.3 kB)\n",
      "Downloading googleapis_common_protos-1.61.0-py2.py3-none-any.whl (230 kB)\n",
      "\u001b[2K   \u001b[90m━━━━━━━━━━━━━━━━━━━━━━━━━━━━━━━━━━━━━━━━\u001b[0m \u001b[32m230.9/230.9 kB\u001b[0m \u001b[31m5.0 MB/s\u001b[0m eta \u001b[36m0:00:00\u001b[0m00:01\u001b[0m\n",
      "\u001b[?25hInstalling collected packages: pyasn1, googleapis-common-protos, google-crc32c, cachetools, rsa, pyasn1-modules, google-resumable-media, google-auth, google-api-core, google-cloud-core, google-cloud-storage\n",
      "Successfully installed cachetools-5.3.1 google-api-core-2.12.0 google-auth-2.23.3 google-cloud-core-2.3.3 google-cloud-storage-2.12.0 google-crc32c-1.5.0 google-resumable-media-2.6.0 googleapis-common-protos-1.61.0 pyasn1-0.5.0 pyasn1-modules-0.3.0 rsa-4.9\n"
     ]
    }
   ],
   "source": [
    "!pip install google-cloud-storage"
   ]
  },
  {
   "cell_type": "markdown",
   "id": "156074f0-55ab-45fd-8f17-aca6a9b7289a",
   "metadata": {},
   "source": [
    "A API precisa de uma chave para autenticação no serviço.\n",
    "\n",
    "Passo a passo para gerar a chave:\n",
    "- Console do Google Cloud Platform\n",
    "- APIs e Serviços > Credenciais\n",
    "- Criar Conta de Serviço\n",
    "- Criar Chave do tipo JSON\n",
    "\n",
    "> \"É feito o download de um arquivo contendo a chave privada. Armazene o arquivo com segurança porque essa chave não pode ser recuperada em caso de perda.\"\n",
    "\n",
    "Subimos o arquivo JSON para uma pasta de trabalho no cluster:\n",
    "\n",
    "> `/home/aldinei_bastos/work/seventh-abacus-395221-52fc140a5609.json`"
   ]
  },
  {
   "cell_type": "code",
   "execution_count": 7,
   "id": "d4b10a38-734b-48bb-abcd-e75e7b8985bc",
   "metadata": {},
   "outputs": [],
   "source": [
    "import os\n",
    "\n",
    "home_dir = os.environ[\"HOME\"]\n",
    "os.environ[\"GOOGLE_APPLICATION_CREDENTIALS\"] = f'{home_dir}/work/seventh-abacus-395221-52fc140a5609.json'"
   ]
  },
  {
   "cell_type": "code",
   "execution_count": 8,
   "id": "7269daf2-2ebf-4d57-85cf-2356a2ca6c94",
   "metadata": {},
   "outputs": [
    {
     "data": {
      "text/plain": [
       "[<Blob: hadoop-dados-brutos, anp-combustiveis-automotivos/, 1693781005419814>,\n",
       " <Blob: hadoop-dados-brutos, anp-combustiveis-automotivos/ca-2004-01.csv, 1693781239357851>,\n",
       " <Blob: hadoop-dados-brutos, anp-combustiveis-automotivos/ca-2004-02.csv, 1693781397853813>,\n",
       " <Blob: hadoop-dados-brutos, anp-combustiveis-automotivos/ca-2005-01.csv, 1693781399574637>,\n",
       " <Blob: hadoop-dados-brutos, anp-combustiveis-automotivos/ca-2005-02.csv, 1693781397708461>,\n",
       " <Blob: hadoop-dados-brutos, anp-combustiveis-automotivos/ca-2006-01.csv, 1693781398243286>,\n",
       " <Blob: hadoop-dados-brutos, anp-combustiveis-automotivos/ca-2006-02.csv, 1693781398142808>,\n",
       " <Blob: hadoop-dados-brutos, anp-combustiveis-automotivos/ca-2007-01.csv, 1693781395022902>,\n",
       " <Blob: hadoop-dados-brutos, anp-combustiveis-automotivos/ca-2007-02.csv, 1693781398311389>,\n",
       " <Blob: hadoop-dados-brutos, anp-combustiveis-automotivos/ca-2008-01.csv, 1693781397510159>,\n",
       " <Blob: hadoop-dados-brutos, anp-combustiveis-automotivos/ca-2008-02.csv, 1693781398725644>,\n",
       " <Blob: hadoop-dados-brutos, anp-combustiveis-automotivos/ca-2009-01.csv, 1693781396903524>,\n",
       " <Blob: hadoop-dados-brutos, anp-combustiveis-automotivos/ca-2009-02.csv, 1693781399332015>,\n",
       " <Blob: hadoop-dados-brutos, anp-combustiveis-automotivos/ca-2010-01.csv, 1693781396798941>,\n",
       " <Blob: hadoop-dados-brutos, anp-combustiveis-automotivos/ca-2010-02.csv, 1693781394972558>,\n",
       " <Blob: hadoop-dados-brutos, anp-combustiveis-automotivos/ca-2011-01.csv, 1693781395511546>,\n",
       " <Blob: hadoop-dados-brutos, anp-combustiveis-automotivos/ca-2011-02.csv, 1693781398381868>,\n",
       " <Blob: hadoop-dados-brutos, anp-combustiveis-automotivos/ca-2012-01.csv, 1693781397727164>,\n",
       " <Blob: hadoop-dados-brutos, anp-combustiveis-automotivos/ca-2012-02.csv, 1693781397481250>,\n",
       " <Blob: hadoop-dados-brutos, anp-combustiveis-automotivos/ca-2013-01.csv, 1693781395489579>,\n",
       " <Blob: hadoop-dados-brutos, anp-combustiveis-automotivos/ca-2013-02.csv, 1693781397154349>,\n",
       " <Blob: hadoop-dados-brutos, anp-combustiveis-automotivos/ca-2014-01.csv, 1693781398105663>,\n",
       " <Blob: hadoop-dados-brutos, anp-combustiveis-automotivos/ca-2014-02.csv, 1693781395024124>,\n",
       " <Blob: hadoop-dados-brutos, anp-combustiveis-automotivos/ca-2015-01.csv, 1693781394795873>,\n",
       " <Blob: hadoop-dados-brutos, anp-combustiveis-automotivos/ca-2015-02.csv, 1693781396435277>,\n",
       " <Blob: hadoop-dados-brutos, anp-combustiveis-automotivos/ca-2016-01.csv, 1693781398180125>,\n",
       " <Blob: hadoop-dados-brutos, anp-combustiveis-automotivos/ca-2016-02.csv, 1693781402222740>,\n",
       " <Blob: hadoop-dados-brutos, anp-combustiveis-automotivos/ca-2017-01.csv, 1693781399563611>,\n",
       " <Blob: hadoop-dados-brutos, anp-combustiveis-automotivos/ca-2017-02.csv, 1693781399069869>,\n",
       " <Blob: hadoop-dados-brutos, anp-combustiveis-automotivos/ca-2018-01.csv, 1693781397978311>,\n",
       " <Blob: hadoop-dados-brutos, anp-combustiveis-automotivos/ca-2018-02.csv, 1693781396118663>,\n",
       " <Blob: hadoop-dados-brutos, anp-combustiveis-automotivos/ca-2019-01.csv, 1693781397341382>,\n",
       " <Blob: hadoop-dados-brutos, anp-combustiveis-automotivos/ca-2019-02.csv, 1693781396351786>,\n",
       " <Blob: hadoop-dados-brutos, anp-combustiveis-automotivos/ca-2020-01.csv, 1693781398215772>,\n",
       " <Blob: hadoop-dados-brutos, anp-combustiveis-automotivos/ca-2020-02.csv, 1693781395103789>,\n",
       " <Blob: hadoop-dados-brutos, anp-combustiveis-automotivos/ca-2021-01.csv, 1693781398387517>,\n",
       " <Blob: hadoop-dados-brutos, anp-combustiveis-automotivos/ca-2021-02.csv, 1693781399539579>,\n",
       " <Blob: hadoop-dados-brutos, anp-combustiveis-automotivos/ca-2022-01.csv, 1693781399552944>,\n",
       " <Blob: hadoop-dados-brutos, anp-combustiveis-automotivos/ca-2022-02.csv, 1693781398198628>,\n",
       " <Blob: hadoop-dados-brutos, anp-combustiveis-automotivos/ca-2023-01.csv, 1693781397325408>,\n",
       " <Blob: hadoop-dados-brutos, anp-combustiveis-automotivos/combustiveis-liquidos-municipios.csv, 1693849151570744>]"
      ]
     },
     "metadata": {},
     "output_type": "display_data"
    }
   ],
   "source": [
    "from google.cloud import storage\n",
    "\n",
    "# Inicializa o cliente\n",
    "storage_client = storage.Client()\n",
    "\n",
    "# Lista todos os buckets\n",
    "buckets = list(storage_client.list_buckets())\n",
    "\n",
    "# Obtem um bucket específico\n",
    "bucket = storage_client.get_bucket('hadoop-dados-brutos')\n",
    "blobs = list(bucket.list_blobs())\n",
    "\n",
    "display(blobs)"
   ]
  },
  {
   "cell_type": "markdown",
   "id": "e130020d-8317-47a2-9022-7277a84c68f5",
   "metadata": {},
   "source": [
    "Usamos a API para fazer o download dos arquivos com extensão CSV"
   ]
  },
  {
   "cell_type": "code",
   "execution_count": 5,
   "id": "6f77c76c-0116-4856-a375-3f36695b3c24",
   "metadata": {},
   "outputs": [
    {
     "name": "stdout",
     "output_type": "stream",
     "text": [
      "Downloading anp-combustiveis-automotivos/ca-2004-01.csv\n",
      "Downloading anp-combustiveis-automotivos/ca-2004-02.csv\n",
      "Downloading anp-combustiveis-automotivos/ca-2005-01.csv\n",
      "Downloading anp-combustiveis-automotivos/ca-2005-02.csv\n",
      "Downloading anp-combustiveis-automotivos/ca-2006-01.csv\n",
      "Downloading anp-combustiveis-automotivos/ca-2006-02.csv\n",
      "Downloading anp-combustiveis-automotivos/ca-2007-01.csv\n",
      "Downloading anp-combustiveis-automotivos/ca-2007-02.csv\n",
      "Downloading anp-combustiveis-automotivos/ca-2008-01.csv\n",
      "Downloading anp-combustiveis-automotivos/ca-2008-02.csv\n",
      "Downloading anp-combustiveis-automotivos/ca-2009-01.csv\n",
      "Downloading anp-combustiveis-automotivos/ca-2009-02.csv\n",
      "Downloading anp-combustiveis-automotivos/ca-2010-01.csv\n",
      "Downloading anp-combustiveis-automotivos/ca-2010-02.csv\n",
      "Downloading anp-combustiveis-automotivos/ca-2011-01.csv\n",
      "Downloading anp-combustiveis-automotivos/ca-2011-02.csv\n",
      "Downloading anp-combustiveis-automotivos/ca-2012-01.csv\n",
      "Downloading anp-combustiveis-automotivos/ca-2012-02.csv\n",
      "Downloading anp-combustiveis-automotivos/ca-2013-01.csv\n",
      "Downloading anp-combustiveis-automotivos/ca-2013-02.csv\n",
      "Downloading anp-combustiveis-automotivos/ca-2014-01.csv\n",
      "Downloading anp-combustiveis-automotivos/ca-2014-02.csv\n",
      "Downloading anp-combustiveis-automotivos/ca-2015-01.csv\n",
      "Downloading anp-combustiveis-automotivos/ca-2015-02.csv\n",
      "Downloading anp-combustiveis-automotivos/ca-2016-01.csv\n",
      "Downloading anp-combustiveis-automotivos/ca-2016-02.csv\n",
      "Downloading anp-combustiveis-automotivos/ca-2017-01.csv\n",
      "Downloading anp-combustiveis-automotivos/ca-2017-02.csv\n",
      "Downloading anp-combustiveis-automotivos/ca-2018-01.csv\n",
      "Downloading anp-combustiveis-automotivos/ca-2018-02.csv\n",
      "Downloading anp-combustiveis-automotivos/ca-2019-01.csv\n",
      "Downloading anp-combustiveis-automotivos/ca-2019-02.csv\n",
      "Downloading anp-combustiveis-automotivos/ca-2020-01.csv\n",
      "Downloading anp-combustiveis-automotivos/ca-2020-02.csv\n",
      "Downloading anp-combustiveis-automotivos/ca-2021-01.csv\n",
      "Downloading anp-combustiveis-automotivos/ca-2021-02.csv\n",
      "Downloading anp-combustiveis-automotivos/ca-2022-01.csv\n",
      "Downloading anp-combustiveis-automotivos/ca-2022-02.csv\n",
      "Downloading anp-combustiveis-automotivos/ca-2023-01.csv\n",
      "Downloading anp-combustiveis-automotivos/combustiveis-liquidos-municipios.csv\n"
     ]
    }
   ],
   "source": [
    "import re\n",
    "import os\n",
    "\n",
    "def download_blob(blob):\n",
    "    file_path = f'../work/{blob.name}'\n",
    "        \n",
    "    # Cria a pasta se não existir\n",
    "    dir_name = os.path.dirname(file_path)\n",
    "    if not os.path.exists(dir_name):\n",
    "        os.makedirs(dir_name)\n",
    "        \n",
    "    # Download\n",
    "    blob.download_to_filename(file_path)    \n",
    "\n",
    "for blob in blobs:\n",
    "    # Se arquivo CSV\n",
    "    if re.search(r'.csv$', blob.name):\n",
    "        print(f'Downloading {blob.name}')\n",
    "        download_blob(blob)\n"
   ]
  }
 ],
 "metadata": {
  "kernelspec": {
   "display_name": "Python 3 (ipykernel)",
   "language": "python",
   "name": "python3"
  },
  "language_info": {
   "codemirror_mode": {
    "name": "ipython",
    "version": 3
   },
   "file_extension": ".py",
   "mimetype": "text/x-python",
   "name": "python",
   "nbconvert_exporter": "python",
   "pygments_lexer": "ipython3",
   "version": "3.11.5"
  }
 },
 "nbformat": 4,
 "nbformat_minor": 5
}
