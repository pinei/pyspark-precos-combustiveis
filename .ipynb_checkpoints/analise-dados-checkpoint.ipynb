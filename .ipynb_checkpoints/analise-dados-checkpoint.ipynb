{
 "cells": [
  {
   "cell_type": "markdown",
   "id": "83e89c6f-fd86-4a00-a408-7b7408fb996a",
   "metadata": {
    "tags": []
   },
   "source": [
    "## Coleta de dados\n",
    "\n",
    "Esse projeto em PySpark faz uma análise de dados de preços de combustíveis da ANP.\n",
    "\n",
    "O trabalho faz uso de dados publicados pela ANP (Agência Nacional de Petróleo)\n",
    "\n",
    "> Em cumprimento às determinações da Lei do Petróleo (Lei nº 9478/1997, artigo 8º), a ANP acompanha os preços praticados por revendedores de combustíveis automotivos e de gás liquefeito de petróleo envasilhado em botijões de 13 quilos (GLP P13), por meio de uma pesquisa semanal de preços realizada por empresa contratada.\n",
    "\n",
    "- [Série Histórica de Preços de Combustíveis e de GLP](https://www.gov.br/anp/pt-br/centrais-de-conteudo/dados-abertos/serie-historica-de-precos-de-combustiveis)"
   ]
  },
  {
   "cell_type": "markdown",
   "id": "e7692d95-c2b6-4aa7-90a8-7c31e0f7b1d6",
   "metadata": {},
   "source": [
    "Coletamos a série histórica de \"Combustíveis automotivos\" que vai de 2004 a 2023. São 39 arquivos CSV totalizando aproximadamente 3.7 GB.\n",
    "\n",
    "![Amostra dos dados](./assets/amostra_planilha_revenda.png)\n",
    "\n",
    "- [Metadados em PDF](https://www.gov.br/anp/pt-br/centrais-de-conteudo/dados-abertos/arquivos/shpc/metadados-serie-historica-precos-combustiveis-1.pdf)"
   ]
  },
  {
   "cell_type": "markdown",
   "id": "0b34829c-90ef-4e35-b5b2-2479a566f0fe",
   "metadata": {},
   "source": [
    "Temos as seguintes colunas nos arquivos CSV, em conformidade com a documentação de metadados:\n",
    "\n",
    "| Coluna            | Tipo    | Comentário                                                                           |\n",
    "| ----------------- | ------- | ------------------------------------------------------------------------------------ |\n",
    "| Regiao            | Texto   | Sigla da região do país (ex: S, N, SE)                                               |\n",
    "| Estado            | Texto   | Sigla de unidade federativa (ex: RJ, SP, MG)                                         |\n",
    "| Municipio         | Texto   | Nome de município                                                                    |\n",
    "| Revenda           | Texto   | Razão social do revendedor de combustível                                            |\n",
    "| CNPJ da Revenda   | Texto   | CNPJ do revendedor                                                                   |\n",
    "| Nome da Rua       | Texto   | Logradouro                                                                           |\n",
    "| Numero Rua        | Texto   | Logradouro                                                                           |\n",
    "| Complemento       | Texto   | Logradouro                                                                           |\n",
    "| Bairro            | Texto   | Logradouro                                                                           |\n",
    "| CEP               | Texto   | Código de Endereçamento Postal                                                       |\n",
    "| Produto           | Texto   | Produto combustível (ex: GASOLINA, ETANOL, DIESEL)                                   |\n",
    "| Data da Coleta    | Data    | Data da pesquisa de preço (formato dd/mm/aaaa)                                       |\n",
    "| Valor de Venda    | Decimal | Valor de venda da unidade de combustível (4 casas decimais, vírgula como separador)  |\n",
    "| Valor de Compra   | Decimal | Valor de compra da unidade de combustível (4 casas decimais, virgula como separador) |\n",
    "| Unidade de Medida | Texto   | Unidade ao qual os valores de compra e venda se referem (ex: R$ / litro)             |\n",
    "| Bandeira          | Texto   | Nome de marca do posto de revenda (ex: IPIRANGA, BRANCA, COSAN, etc.)                |\n"
   ]
  },
  {
   "cell_type": "markdown",
   "id": "a77acdcc-ce95-4c24-b234-15a5b5ac5b8d",
   "metadata": {
    "tags": []
   },
   "source": [
    "## Infraestrutura\n",
    "\n",
    "Aproveitando a configuração de cluster da Google Cloud Platform criada para o [projeto Hadoop](https://github.com/pinei/hadoop-precos-combustiveis), incluímos o JupyterLab para trabalhar com o PySpark.\n",
    "\n",
    "![cluster-info](./assets/cluster_info.png)\n",
    "\n",
    "O suporte ao Hive precisa de um bucket para funcionar em modo distribuído. O caminho para o bucket pode ser especificado em uma propriedade do cluster, antes da sua criação, conforme exemplo:\n",
    "\n",
    "```\n",
    "spark:spark.sql.warehouse.dir=gs://hadoop-stage/spark-warehouse\n",
    "```"
   ]
  },
  {
   "cell_type": "markdown",
   "id": "bbda0644-a8f3-4dd6-9280-de847557dbc8",
   "metadata": {},
   "source": [
    "Em paralelo usamos uma instalação em Raspberry Pi 4 para verificar a viabilidade e desempenho nesse tipo de hardware de baixo custo.\n",
    "\n",
    "- [Running PySpark in JupyterLab on a Raspberry Pi](https://dev.to/pinei/running-pyspark-in-jupyterlab-on-a-raspberry-pi-1293)\n",
    "\n",
    "Por rodar no modo standalone, vamos chamar este ambiente de \"máquina local\"."
   ]
  },
  {
   "cell_type": "markdown",
   "id": "65a0f7c5-47e4-4d38-855d-63edb15a9667",
   "metadata": {
    "tags": []
   },
   "source": [
    "Em projeto anterior os arquivos CSV foram organizados em um bucket do Google Cloud Storage.\n",
    "\n",
    "> `https://console.cloud.google.com/storage/browser/hadoop-dados-brutos`\n",
    "\n",
    "No cluster Dataproc o Spark tem acesso padrão aos arquivos desse storage via URL `gs://hadoop-dados-brutos`, podendo inclusive fazer o processamento distribuído entre os nós."
   ]
  },
  {
   "cell_type": "code",
   "execution_count": 1,
   "id": "fd7d7a84-53ad-40fe-a906-9870d3021602",
   "metadata": {},
   "outputs": [],
   "source": [
    "DATA_PATH = 'gs://hadoop-dados-brutos'"
   ]
  },
  {
   "cell_type": "markdown",
   "id": "b557042d-ff4b-4a40-8b0f-3a84075d3779",
   "metadata": {},
   "source": [
    "No Spark em máquina local, o suporte a conexão com o mesmo storage precisa de configuração adicional.\n",
    "\n",
    "- [How to fix \"No FileSystem for scheme: gs\" in pyspark?](https://stackoverflow.com/questions/55595263/how-to-fix-no-filesystem-for-scheme-gs-in-pyspark)"
   ]
  },
  {
   "cell_type": "markdown",
   "id": "a67b7b02-8fc0-4361-8b82-13afeeb96f1b",
   "metadata": {},
   "source": [
    "## Iniciando a sessão do Spark\n",
    "\n",
    "Inicializamos uma sessão do Spark com suporte ao Hive para gerenciamento de metadados das bases de dados.\n",
    "\n",
    "Também habilitamos o suporte ao sistema de arquivos do Google Cloud."
   ]
  },
  {
   "cell_type": "code",
   "execution_count": 2,
   "id": "068ec3f2-5c5c-43a5-9118-ecd60f055ea5",
   "metadata": {},
   "outputs": [
    {
     "name": "stderr",
     "output_type": "stream",
     "text": [
      "23/10/13 04:33:08 WARN SparkSession: Using an existing Spark session; only runtime SQL configurations will take effect.\n"
     ]
    }
   ],
   "source": [
    "from pyspark.sql import SparkSession\n",
    "\n",
    "spark = ( SparkSession\n",
    "    .builder\n",
    "    .appName(\"analise-dados\")\n",
    "    .config(\"spark.jars\", \"https://storage.googleapis.com/hadoop-lib/gcs/gcs-connector-hadoop3-latest.jar\")\n",
    "    .enableHiveSupport()\n",
    "    .getOrCreate() )\n",
    "\n",
    "spark._jsc.hadoopConfiguration().set('fs.gs.impl', 'com.google.cloud.hadoop.fs.gcs.GoogleHadoopFileSystem')"
   ]
  },
  {
   "cell_type": "markdown",
   "id": "3b5e35ed-9168-43e5-b369-0eff087d202b",
   "metadata": {},
   "source": [
    "Quando executando fora da Google Cloud, o conector do Google precisa de uma chave para autenticação no serviço.\n",
    "\n",
    "Passo a passo para gerar a chave:\n",
    "- Console do Google Cloud Platform\n",
    "- APIs e Serviços > Credenciais\n",
    "- Criar Conta de Serviço\n",
    "- Criar Chave do tipo JSON\n",
    "\n",
    "> \"É feito o download de um arquivo contendo a chave privada. Armazene o arquivo com segurança porque essa chave não pode ser recuperada em caso de perda.\"\n",
    "\n",
    "Subimos o arquivo JSON para uma pasta de trabalho:\n",
    "\n",
    "> `/home/aldinei_bastos/work/seventh-abacus-395221-52fc140a5609.json`\n",
    "\n",
    "É necessário então localizar o JSON através de uma variável de ambiente `GOOGLE_APPLICATION_CREDENTIALS`"
   ]
  },
  {
   "cell_type": "code",
   "execution_count": 3,
   "id": "d49ee85e-23a6-44a3-8b90-7ac979e8d183",
   "metadata": {},
   "outputs": [],
   "source": [
    "import os\n",
    "\n",
    "HOME_DIR = os.environ[\"HOME\"]\n",
    "os.environ[\"GOOGLE_APPLICATION_CREDENTIALS\"] = f'{HOME_DIR}/work/seventh-abacus-395221-52fc140a5609.json'"
   ]
  },
  {
   "cell_type": "code",
   "execution_count": null,
   "id": "2da1fc6d-1b77-4501-80d7-648bc523ab67",
   "metadata": {},
   "outputs": [],
   "source": [
    "spark.catalog.listDatabases()"
   ]
  },
  {
   "cell_type": "code",
   "execution_count": null,
   "id": "edf99d92-6375-4481-a671-a836a6a322c3",
   "metadata": {},
   "outputs": [],
   "source": [
    "def create_database(name, comment):\n",
    "    spark.sql(f\"CREATE DATABASE IF NOT EXISTS {name} COMMENT '{comment}'\")\n",
    "    return spark.sql(f\"DESCRIBE DATABASE {name}\")\n",
    "\n",
    "metadata = create_database(\"precos_anp\", \"Base de dados de preços de combustíveis fornecidos pela ANP e alguns indicadores de mercado\")\n",
    "metadata.show()"
   ]
  },
  {
   "cell_type": "markdown",
   "id": "6dad6011-a790-42aa-97b6-87dbc1500481",
   "metadata": {},
   "source": [
    "## Ingestão\n",
    "\n",
    "Definimos o schema para leitura dos arquivos CSV."
   ]
  },
  {
   "cell_type": "code",
   "execution_count": 4,
   "id": "08551499-0669-4427-9033-396a1d700a15",
   "metadata": {},
   "outputs": [
    {
     "name": "stderr",
     "output_type": "stream",
     "text": [
      "                                                                                \r"
     ]
    },
    {
     "data": {
      "text/plain": [
       "22645940"
      ]
     },
     "execution_count": 4,
     "metadata": {},
     "output_type": "execute_result"
    }
   ],
   "source": [
    "from pyspark.sql.types import StructType, StructField, StringType, DateType, DecimalType\n",
    "\n",
    "schema = StructType([\n",
    "    StructField(\"Regiao\", StringType(), True),\n",
    "    StructField(\"Estado\", StringType(), True),\n",
    "    StructField(\"Municipio\", StringType(), True),\n",
    "    StructField(\"Revenda\", StringType(), True),\n",
    "    StructField(\"CNPJ da Revenda\", StringType(), True),\n",
    "    StructField(\"Nome da Rua\", StringType(), True),\n",
    "    StructField(\"Numero Rua\", StringType(), True),\n",
    "    StructField(\"Complemento\", StringType(), True),\n",
    "    StructField(\"Bairro\", StringType(), True),\n",
    "    StructField(\"CEP\", StringType(), True),\n",
    "    StructField(\"Produto\", StringType(), True),\n",
    "    StructField(\"Data da Coleta\", DateType(), True),\n",
    "    StructField(\"Valor de Venda\", DecimalType(10, 4), True),\n",
    "    StructField(\"Valor de Compra\", DecimalType(10, 4), True),\n",
    "    StructField(\"Unidade de Medida\", StringType(), True),\n",
    "    StructField(\"Bandeira\", StringType(), True)\n",
    "])\n",
    "\n",
    "df_csv = spark.read.csv(f\"{DATA_PATH}/anp-combustiveis-automotivos/ca-*.csv\",\n",
    "                    header=True,\n",
    "                    schema=schema,\n",
    "                    sep=';',\n",
    "                    multiLine=True,\n",
    "                    quote='\"',\n",
    "                    dateFormat=\"dd/MM/yyyy\",\n",
    "                    locale='pt-BR')\n",
    "df_csv.count()"
   ]
  },
  {
   "cell_type": "markdown",
   "id": "759f5f61-4099-498d-9cc2-38a8035da168",
   "metadata": {},
   "source": [
    "Criamos uma tabela gerenciada e populamos com os dados do dataframe carregado"
   ]
  },
  {
   "cell_type": "code",
   "execution_count": null,
   "id": "fe47da75-7571-4b50-a068-807283c62e02",
   "metadata": {},
   "outputs": [],
   "source": [
    "spark.sql(\"\"\"\n",
    "    CREATE TABLE IF NOT EXISTS precos_anp.combustiveis_automotivos (\n",
    "      regiao STRING,\n",
    "      estado STRING,\n",
    "      municipio STRING,\n",
    "      revenda STRING,\n",
    "      cnpj_revenda STRING,\n",
    "      endereco_rua STRING,\n",
    "      endereco_numero STRING,\n",
    "      endereco_complemento STRING,\n",
    "      endereco_bairro STRING,\n",
    "      endereco_cep STRING,\n",
    "      mes STRING,\n",
    "      data DATE,\n",
    "      valor_venda DECIMAL(10,4),  -- Tipo decimal com até 4 casas decimais\n",
    "      valor_compra DECIMAL(10,4),  -- Tipo decimal com até 4 casas decimais\n",
    "      unidade_medida STRING,\n",
    "      bandeira STRING\n",
    "    )\n",
    "    PARTITIONED BY (produto STRING)\n",
    "    CLUSTERED BY (mes) INTO 8 BUCKETS\n",
    "\"\"\")\n",
    "\n",
    "# Checando\n",
    "spark.table('precos_anp.combustiveis_automotivos')"
   ]
  },
  {
   "cell_type": "code",
   "execution_count": 5,
   "id": "41d4fcd1-1892-49d0-8ecc-c200b9564875",
   "metadata": {},
   "outputs": [
    {
     "name": "stderr",
     "output_type": "stream",
     "text": [
      "ivysettings.xml file not found in HIVE_HOME or HIVE_CONF_DIR,/etc/hive/conf.dist/ivysettings.xml will be used\n",
      "23/10/13 04:36:28 WARN SessionState: METASTORE_FILTER_HOOK will be ignored, since hive.security.authorization.manager is set to instance of HiveAuthorizerFactory.\n"
     ]
    }
   ],
   "source": [
    "from pyspark.sql import functions as F\n",
    "\n",
    "df_ca = (\n",
    "    df_csv.select(\n",
    "        F.column(\"Regiao\").alias(\"regiao\"),\n",
    "        F.column(\"Estado\").alias(\"estado\"),\n",
    "        F.column(\"Municipio\").alias(\"municipio\"),\n",
    "        F.column(\"Revenda\").alias(\"revenda\"),\n",
    "        F.column(\"CNPJ da Revenda\").alias(\"cnpj_revenda\"),\n",
    "        F.column(\"Nome da Rua\").alias(\"endereco_rua\"),\n",
    "        F.column(\"Numero Rua\").alias(\"endereco_numero\"),\n",
    "        F.column(\"Complemento\").alias(\"endereco_complemento\"),\n",
    "        F.column(\"Bairro\").alias(\"endereco_bairro\"),\n",
    "        F.column(\"CEP\").alias(\"endereco_cep\"),\n",
    "        F.column(\"Produto\").alias(\"produto\"),\n",
    "        F.column(\"Data da Coleta\").alias(\"data\"),\n",
    "        F.column(\"Valor de Venda\").alias(\"valor_venda\"),\n",
    "        F.column(\"Valor de Compra\").alias(\"valor_compra\"),\n",
    "        F.column(\"Unidade de Medida\").alias(\"unidade_medida\"),\n",
    "        F.column(\"Bandeira\").alias(\"bandeira\")\n",
    "    )\n",
    "    .withColumn(\"mes\", F.date_format(\"data\", \"yyyy-MM\"))\n",
    "    .filter(F.col(\"produto\").isin('DIESEL S10', 'DIESEL', 'ETANOL', 'GNV', 'GASOLINA', 'DIESEL S50', 'GASOLINA ADITIVADA'))\n",
    ")\n",
    "\n",
    "df_ca.write.mode(\"overwrite\").saveAsTable(\"precos_anp.combustiveis_automotivos\")"
   ]
  },
  {
   "cell_type": "code",
   "execution_count": 6,
   "id": "a2632864-2e98-43b5-862d-66916acb202d",
   "metadata": {},
   "outputs": [
    {
     "name": "stderr",
     "output_type": "stream",
     "text": [
      "[Stage 5:===============================================>           (4 + 1) / 5]\r"
     ]
    },
    {
     "name": "stdout",
     "output_type": "stream",
     "text": [
      "+------------------+-------+\n",
      "|           produto|  count|\n",
      "+------------------+-------+\n",
      "|        DIESEL S10|1978185|\n",
      "|            DIESEL|5406872|\n",
      "|            ETANOL|6896581|\n",
      "|               GNV| 435900|\n",
      "|          GASOLINA|7457216|\n",
      "|GASOLINA ADITIVADA| 426690|\n",
      "|        DIESEL S50|  44495|\n",
      "+------------------+-------+\n",
      "\n"
     ]
    },
    {
     "name": "stderr",
     "output_type": "stream",
     "text": [
      "                                                                                \r"
     ]
    }
   ],
   "source": [
    "df_grouped = spark.table(\"precos_anp.combustiveis_automotivos\").groupBy(\"produto\").count()\n",
    "\n",
    "df_grouped.show()"
   ]
  },
  {
   "cell_type": "markdown",
   "id": "22db00db-50be-4faf-a92a-b1c240640638",
   "metadata": {},
   "source": [
    "Como segunda tabela de dados, coletamos a série histórica mensal dos preços de distribuição de combustíveis líquidos, com dados desde 2020/09.\n",
    "\n",
    "![Dados de distribuição](./assets/amostra_planilha_distribuicao.png)\n",
    "\n",
    "O arquivo está disponível no bucket com o nome `combustiveis-liquidos-municipios.csv`."
   ]
  },
  {
   "cell_type": "code",
   "execution_count": 7,
   "id": "6f03fdef-8db2-4887-8755-2485abde0734",
   "metadata": {},
   "outputs": [
    {
     "name": "stderr",
     "output_type": "stream",
     "text": [
      "                                                                                \r"
     ]
    },
    {
     "data": {
      "text/plain": [
       "80327"
      ]
     },
     "execution_count": 7,
     "metadata": {},
     "output_type": "execute_result"
    }
   ],
   "source": [
    "from pyspark.sql.types import StructType, StructField, StringType, DateType, DecimalType\n",
    "\n",
    "schema = StructType([\n",
    "    StructField(\"MÊS\", StringType(), True),\n",
    "    StructField(\"PRODUTO\", StringType(), True),\n",
    "    StructField(\"REGIÃO\", StringType(), True),\n",
    "    StructField(\"ESTADO\", StringType(), True),\n",
    "    StructField(\"MUNICÍPIO\", StringType(), True),\n",
    "    StructField(\"UNIDADE\", StringType(), True),\n",
    "    StructField(\"PREÇO MÉDIO DE DISTRIBUIÇÃO\", DecimalType(10, 4), True),\n",
    "    StructField(\"DESVIO PADRÃO\", DecimalType(10, 4), True)\n",
    "])\n",
    "\n",
    "df_csv = spark.read.csv(f\"{DATA_PATH}/anp-combustiveis-automotivos/combustiveis-liquidos-municipios.csv\",\n",
    "                    header=True,\n",
    "                    schema=schema,\n",
    "                    sep=';',\n",
    "                    multiLine=True,\n",
    "                    quote='\"',\n",
    "                    dateFormat=\"dd/MM/yyyy\",\n",
    "                    locale='pt-BR')\n",
    "df_csv.count()"
   ]
  },
  {
   "cell_type": "code",
   "execution_count": 8,
   "id": "d0efab5a-7fd9-471d-90d3-59c9d8d4d253",
   "metadata": {},
   "outputs": [
    {
     "name": "stderr",
     "output_type": "stream",
     "text": [
      "23/10/13 04:44:36 WARN ResolveSessionCatalog: A Hive serde table will be created as there is no table provider specified. You can set spark.sql.legacy.createHiveTableByDefault to false so that native data source table will be created instead.\n"
     ]
    },
    {
     "data": {
      "text/plain": [
       "DataFrame[mes: string, produto: string, regiao: string, estado: string, municipio: string, unidade_medida: string, preco_medio: decimal(10,4), desvio_padrao: decimal(10,4)]"
      ]
     },
     "execution_count": 8,
     "metadata": {},
     "output_type": "execute_result"
    }
   ],
   "source": [
    "spark.sql(\"\"\"\n",
    "    CREATE TABLE IF NOT EXISTS precos_anp.distribuicao_combustiveis (\n",
    "      mes STRING,\n",
    "      produto STRING,\n",
    "      regiao STRING,\n",
    "      estado STRING,\n",
    "      municipio STRING,\n",
    "      unidade_medida STRING,\n",
    "      preco_medio DECIMAL(10,4),\n",
    "      desvio_padrao DECIMAL(10,4)\n",
    "    )\n",
    "\"\"\")\n",
    "\n",
    "# Checando\n",
    "spark.table('precos_anp.distribuicao_combustiveis')"
   ]
  },
  {
   "cell_type": "code",
   "execution_count": 13,
   "id": "df091771-f28a-4ed8-ab93-6fdb8c9beafc",
   "metadata": {},
   "outputs": [
    {
     "name": "stderr",
     "output_type": "stream",
     "text": [
      "                                                                                \r"
     ]
    }
   ],
   "source": [
    "from pyspark.sql import functions as F\n",
    "\n",
    "df_dc = (\n",
    "    df_csv.select(\n",
    "        F.column(\"MÊS\").alias(\"mes\"),\n",
    "        F.column(\"PRODUTO\").alias(\"produto\"),\n",
    "        F.column(\"REGIÃO\").alias(\"regiao\"),\n",
    "        F.column(\"ESTADO\").alias(\"estado\"),\n",
    "        F.column(\"MUNICÍPIO\").alias(\"municipio\"),\n",
    "        F.column(\"UNIDADE\").alias(\"unidade_medida\"),\n",
    "        F.column(\"PREÇO MÉDIO DE DISTRIBUIÇÃO\").alias(\"preco_medio\"),\n",
    "        F.column(\"DESVIO PADRÃO\").alias(\"desvio_padrao\")\n",
    "    )\n",
    "    .withColumn(\"produto\",\n",
    "        F.when(F.col(\"produto\") == 'ETANOL HIDRATADO COMUM', 'ETANOL')\n",
    "         .when(F.col(\"produto\") == 'GASOLINA C COMUM', 'GASOLINA')\n",
    "         .when(F.col(\"produto\") == 'GASOLINA C COMUM ADITIVADA', 'GASOLINA ADITIVADA')\n",
    "         .when(F.col(\"produto\") == 'ÓLEO DIESEL B S10 - COMUM', 'DIESEL S10')\n",
    "         .when(F.col(\"produto\") == 'ÓLEO DIESEL B S500 - COMUM', 'DIESEL S500')\n",
    "         .otherwise(None).alias('produto'))\n",
    "    .withColumn(\"regiao\",\n",
    "        F.when(F.col(\"regiao\") == 'CENTRO OESTE', 'CO')\n",
    "         .when(F.col(\"regiao\") == 'NORDESTE', 'NE')\n",
    "         .when(F.col(\"regiao\") == 'NORTE', 'N')\n",
    "         .when(F.col(\"regiao\") == 'SUDESTE', 'SE')\n",
    "         .when(F.col(\"regiao\") == 'SUL', 'S')\n",
    "         .otherwise(None).alias('regiao'))\n",
    "    .withColumn(\"estado\",\n",
    "        F.when(F.col(\"estado\") == 'ACRE', 'AC')\n",
    "         .when(F.col(\"estado\") == 'ALAGOAS', 'AL')\n",
    "         .when(F.col(\"estado\") == 'AMAZONAS', 'AM')\n",
    "         .when(F.col(\"estado\") == 'AMAPA', 'AP')\n",
    "         .when(F.col(\"estado\") == 'BAHIA', 'BA')\n",
    "         .when(F.col(\"estado\") == 'CEARA', 'CE')\n",
    "         .when(F.col(\"estado\") == 'DISTRITO FEDERAL', 'DF')\n",
    "         .when(F.col(\"estado\") == 'ESPIRITO SANTO', 'ES')\n",
    "         .when(F.col(\"estado\") == 'GOIAS', 'GO')\n",
    "         .when(F.col(\"estado\") == 'MARANHAO', 'MA')\n",
    "         .when(F.col(\"estado\") == 'MINAS GERAIS', 'MG')\n",
    "         .when(F.col(\"estado\") == 'MATO GROSSO DO SUL', 'MS')\n",
    "         .when(F.col(\"estado\") == 'MATO GROSSO', 'MT')\n",
    "         .when(F.col(\"estado\") == 'PARA', 'PA')\n",
    "         .when(F.col(\"estado\") == 'PARAIBA', 'PB')\n",
    "         .when(F.col(\"estado\") == 'PERNAMBUCO', 'PE')\n",
    "         .when(F.col(\"estado\") == 'PIAUI', 'PI')\n",
    "         .when(F.col(\"estado\") == 'PARANA', 'PR')\n",
    "         .when(F.col(\"estado\") == 'RIO DE JANEIRO', 'RJ')\n",
    "         .when(F.col(\"estado\") == 'RIO GRANDE DO NORTE', 'RN')\n",
    "         .when(F.col(\"estado\") == 'RONDONIA', 'RO')\n",
    "         .when(F.col(\"estado\") == 'RORAIMA', 'RR')\n",
    "         .when(F.col(\"estado\") == 'RIO GRANDE DO SUL', 'RS')\n",
    "         .when(F.col(\"estado\") == 'SANTA CATARINA', 'SC')\n",
    "         .when(F.col(\"estado\") == 'SERGIPE', 'SE')\n",
    "         .when(F.col(\"estado\") == 'SAO PAULO', 'SP')\n",
    "         .when(F.col(\"estado\") == 'TOCANTINS', 'TO')\n",
    "         .otherwise(None).alias('estado'))\n",
    "    .filter((F.trim(F.col(\"preco_medio\")) != '') & (F.trim(F.col(\"preco_medio\")) != '-'))\n",
    ")\n",
    "\n",
    "df_dc.write.mode(\"overwrite\").saveAsTable(\"precos_anp.distribuicao_combustiveis\")"
   ]
  },
  {
   "cell_type": "code",
   "execution_count": 14,
   "id": "22bb798d-af6a-443c-bf15-dbea86054e10",
   "metadata": {},
   "outputs": [
    {
     "name": "stderr",
     "output_type": "stream",
     "text": [
      "[Stage 12:>                                                         (0 + 1) / 1]\r"
     ]
    },
    {
     "name": "stdout",
     "output_type": "stream",
     "text": [
      "+------------------+-----+\n",
      "|           produto|count|\n",
      "+------------------+-----+\n",
      "|        DIESEL S10|16062|\n",
      "|GASOLINA ADITIVADA|16056|\n",
      "|       DIESEL S500|15246|\n",
      "|            ETANOL|15892|\n",
      "|          GASOLINA|16065|\n",
      "+------------------+-----+\n",
      "\n"
     ]
    },
    {
     "name": "stderr",
     "output_type": "stream",
     "text": [
      "                                                                                \r"
     ]
    }
   ],
   "source": [
    "df_grouped = spark.table(\"precos_anp.distribuicao_combustiveis\").groupBy(\"produto\").count()\n",
    "\n",
    "df_grouped.show()"
   ]
  },
  {
   "cell_type": "markdown",
   "id": "5778f52d-ee59-4c8d-86c4-293f5216ea3e",
   "metadata": {},
   "source": [
    "Estamos incluindo na análise os preços do petróleo no mercado mundial\n",
    "\n",
    "- [West Texas Intermediate (WTI)](https://fred.stlouisfed.org/series/DCOILWTICO) de 2003 a 2023\n",
    "- [Crude Oil Prices: Brent - Europe](https://fred.stlouisfed.org/series/DCOILBRENTEU) de 2003 a 2023"
   ]
  },
  {
   "cell_type": "markdown",
   "id": "5f45984a-04a0-43a3-addf-fb6980b3fe7a",
   "metadata": {},
   "source": [
    "## Analítico\n",
    "\n",
    "Algumas perguntas para análise dos dados com consultas SQL de exemplo"
   ]
  },
  {
   "cell_type": "markdown",
   "id": "31e33a3b-030f-4170-bdb9-72121858580b",
   "metadata": {},
   "source": [
    "### 1. Qual a distribuição de CNPJs por bandeira?"
   ]
  },
  {
   "cell_type": "code",
   "execution_count": 15,
   "id": "27c2a295-eabd-4ec1-a2be-c0207c2bdbcf",
   "metadata": {},
   "outputs": [
    {
     "name": "stderr",
     "output_type": "stream",
     "text": [
      "[Stage 20:>                                                         (0 + 1) / 1]\r"
     ]
    },
    {
     "name": "stdout",
     "output_type": "stream",
     "text": [
      "+--------------------+--------+\n",
      "|            bandeira|contagem|\n",
      "+--------------------+--------+\n",
      "|              BRANCA|   26021|\n",
      "|PETROBRAS DISTRIB...|    9208|\n",
      "|            IPIRANGA|    7126|\n",
      "|              RAIZEN|    5819|\n",
      "|                CBPI|    4033|\n",
      "|       VIBRA ENERGIA|    3549|\n",
      "| COSAN LUBRIFICANTES|    2395|\n",
      "|              ALESAT|    1774|\n",
      "|            LIQUIGÁS|     498|\n",
      "|               SABBÁ|     484|\n",
      "|            SATELITE|     463|\n",
      "|    ALE COMBUSTÍVEIS|     428|\n",
      "|                  SP|     415|\n",
      "|                DPPI|     400|\n",
      "|             ATEM' S|     232|\n",
      "|             EQUADOR|     229|\n",
      "|            PETROSUL|     214|\n",
      "|               ASTER|     214|\n",
      "|   TDC DISTRIBUIDORA|     204|\n",
      "|              DISLUB|     187|\n",
      "+--------------------+--------+\n",
      "only showing top 20 rows\n",
      "\n"
     ]
    },
    {
     "name": "stderr",
     "output_type": "stream",
     "text": [
      "                                                                                \r"
     ]
    }
   ],
   "source": [
    "from pyspark.sql import functions as F\n",
    "\n",
    "df_result = (\n",
    "    spark.table('precos_anp.combustiveis_automotivos')\n",
    "    .groupBy(\"bandeira\")\n",
    "    .agg(F.countDistinct(\"cnpj_revenda\").alias(\"contagem\"))\n",
    "    .orderBy(F.desc(\"contagem\"))\n",
    ")\n",
    "\n",
    "df_result.show()"
   ]
  },
  {
   "cell_type": "markdown",
   "id": "6989b8f4-acaf-4ef2-87ed-230f02b2aaec",
   "metadata": {},
   "source": [
    "### 2. Qual o preço médio de revenda de combustíveis por mês, produto, estado?\n",
    "\n",
    "Consideramos declarar criar uma tabela intermediária para facilitar o reuso em consultas subsequentes."
   ]
  },
  {
   "cell_type": "code",
   "execution_count": 16,
   "id": "3878fef5-1134-437d-8f20-50acd2fa0e73",
   "metadata": {},
   "outputs": [
    {
     "name": "stderr",
     "output_type": "stream",
     "text": [
      "[Stage 29:==============================================>           (4 + 1) / 5]\r"
     ]
    },
    {
     "name": "stdout",
     "output_type": "stream",
     "text": [
      "+-------+------+------+------------------+-----------------+\n",
      "|    mes|regiao|estado|           produto|valor_venda_medio|\n",
      "+-------+------+------+------------------+-----------------+\n",
      "|2023-06|    CO|    DF|            DIESEL|       5.01061728|\n",
      "|2023-06|    CO|    DF|        DIESEL S10|       5.18187500|\n",
      "|2023-06|    CO|    DF|            ETANOL|       3.83377049|\n",
      "|2023-06|    CO|    DF|          GASOLINA|       5.42500000|\n",
      "|2023-06|    CO|    DF|GASOLINA ADITIVADA|       5.50687151|\n",
      "|2023-06|    CO|    DF|               GNV|       6.04000000|\n",
      "|2023-06|    CO|    GO|            DIESEL|       4.90575058|\n",
      "|2023-06|    CO|    GO|        DIESEL S10|       5.02353933|\n",
      "|2023-06|    CO|    GO|            ETANOL|       3.75582880|\n",
      "|2023-06|    CO|    GO|          GASOLINA|       5.35765730|\n",
      "|2023-06|    CO|    GO|GASOLINA ADITIVADA|       5.48975000|\n",
      "|2023-06|    CO|    MS|            DIESEL|       5.16706250|\n",
      "|2023-06|    CO|    MS|        DIESEL S10|       5.22741758|\n",
      "|2023-06|    CO|    MS|            ETANOL|       3.89339130|\n",
      "|2023-06|    CO|    MS|          GASOLINA|       5.41880597|\n",
      "|2023-06|    CO|    MS|GASOLINA ADITIVADA|       5.60464865|\n",
      "|2023-06|    CO|    MS|               GNV|       4.34833333|\n",
      "|2023-06|    CO|    MT|            DIESEL|       5.09905063|\n",
      "|2023-06|    CO|    MT|        DIESEL S10|       5.21479769|\n",
      "|2023-06|    CO|    MT|            ETANOL|       3.46281746|\n",
      "+-------+------+------+------------------+-----------------+\n",
      "only showing top 20 rows\n",
      "\n"
     ]
    },
    {
     "name": "stderr",
     "output_type": "stream",
     "text": [
      "                                                                                \r"
     ]
    }
   ],
   "source": [
    "from pyspark.sql import functions as F\n",
    "\n",
    "df_result = (\n",
    "    spark.table('precos_anp.combustiveis_automotivos')\n",
    "    .groupBy(\"mes\", \"regiao\", \"estado\", \"produto\")\n",
    "    .agg(F.avg(\"valor_venda\").alias(\"valor_venda_medio\"))\n",
    "    .orderBy(\"mes\", \"regiao\", \"estado\", \"produto\", ascending=[False, True, True, True])\n",
    ")\n",
    "\n",
    "df_result.write.mode(\"overwrite\").saveAsTable(\"precos_anp.media_venda_combustiveis_automotivos\")"
   ]
  },
  {
   "cell_type": "markdown",
   "id": "951a535b-4e99-4b21-89af-0734a5cafe5b",
   "metadata": {},
   "source": [
    "Fazendo uma comparação do preço médio da gasolina entre os estados, considerando o último mês da série (2023-06)"
   ]
  },
  {
   "cell_type": "code",
   "execution_count": 18,
   "id": "69ec4166-09a9-4489-890e-47946722e585",
   "metadata": {},
   "outputs": [
    {
     "name": "stderr",
     "output_type": "stream",
     "text": [
      "[Stage 32:>                                                         (0 + 1) / 1]\r"
     ]
    },
    {
     "name": "stdout",
     "output_type": "stream",
     "text": [
      "+------+------+-----------------+\n",
      "|regiao|estado|valor_venda_medio|\n",
      "+------+------+-----------------+\n",
      "|     N|    AM|       6.19634855|\n",
      "|     N|    AC|       6.09985915|\n",
      "|     N|    RO|       5.91151899|\n",
      "|     N|    RR|       5.74308824|\n",
      "|    NE|    RN|       5.70969849|\n",
      "|     N|    TO|       5.61351351|\n",
      "|    SE|    ES|       5.58682464|\n",
      "|    NE|    BA|       5.57350569|\n",
      "|    NE|    AL|       5.55412556|\n",
      "|     S|    SC|       5.54860000|\n",
      "|     N|    PA|       5.48006865|\n",
      "|     S|    PR|       5.44663198|\n",
      "|    NE|    CE|       5.43531457|\n",
      "|     S|    RS|       5.42974790|\n",
      "|    CO|    DF|       5.42500000|\n",
      "|    NE|    PE|       5.42040945|\n",
      "|    CO|    MS|       5.41880597|\n",
      "|    SE|    RJ|       5.41836054|\n",
      "|    NE|    SE|       5.41771242|\n",
      "|    CO|    MT|       5.39057692|\n",
      "+------+------+-----------------+\n",
      "only showing top 20 rows\n",
      "\n"
     ]
    },
    {
     "name": "stderr",
     "output_type": "stream",
     "text": [
      "                                                                                \r"
     ]
    }
   ],
   "source": [
    "from pyspark.sql import functions as F\n",
    "\n",
    "df_result = (\n",
    "    spark.table('precos_anp.media_venda_combustiveis_automotivos')\n",
    "    .select(\"regiao\", \"estado\", \"valor_venda_medio\")\n",
    "    .filter((F.col(\"mes\") == '2023-06') & (F.col(\"produto\") == 'GASOLINA'))\n",
    "    .orderBy(\"valor_venda_medio\", ascending=False)\n",
    ")\n",
    "\n",
    "df_result.show()"
   ]
  },
  {
   "cell_type": "markdown",
   "id": "888f6379-ef5b-4ccc-9105-4c92074425c8",
   "metadata": {},
   "source": [
    "Os dados indicam que os valores mais altos se concentram no norte do país."
   ]
  },
  {
   "cell_type": "markdown",
   "id": "bb9246c4-4194-4abd-b77f-baea99164d72",
   "metadata": {},
   "source": [
    "### 3. Qual o preço médio de distribuição de combustíveis por mês, produto, estado?\n",
    "\n",
    "Consideramos declarar uma tabela intermediária para facilitar o reuso em consultas subsequentes."
   ]
  },
  {
   "cell_type": "code",
   "execution_count": 21,
   "id": "2c66e76f-beed-4fb4-9be4-b451faac70ba",
   "metadata": {},
   "outputs": [
    {
     "name": "stderr",
     "output_type": "stream",
     "text": [
      "                                                                                \r"
     ]
    }
   ],
   "source": [
    "from pyspark.sql import functions as F\n",
    "\n",
    "df_result = (\n",
    "    spark.table('precos_anp.distribuicao_combustiveis')\n",
    "    .groupBy(\"mes\", \"regiao\", \"estado\", \"produto\")\n",
    "    .agg(F.avg(\"preco_medio\").alias(\"valor_distribuicao_medio\"))\n",
    "    .orderBy(\"mes\", \"regiao\", \"estado\", \"produto\", ascending=[False, True, True, True])\n",
    ")\n",
    "\n",
    "df_result.write.mode(\"overwrite\").saveAsTable(\"precos_anp.media_distribuicao_combustiveis_automotivos\")"
   ]
  },
  {
   "cell_type": "markdown",
   "id": "262de7c4-08f2-4366-9773-5c6bf9c4a592",
   "metadata": {},
   "source": [
    "Fazendo uma comparação do preço médio de distribuição da gasolina entre os estados, considerando o último mês da série (2023-06)"
   ]
  },
  {
   "cell_type": "code",
   "execution_count": 22,
   "id": "1d7306b6-5173-4795-a681-5f4c219750ee",
   "metadata": {},
   "outputs": [
    {
     "name": "stderr",
     "output_type": "stream",
     "text": [
      "[Stage 41:>                                                         (0 + 1) / 1]\r"
     ]
    },
    {
     "name": "stdout",
     "output_type": "stream",
     "text": [
      "+------+------+------------------------+\n",
      "|regiao|estado|valor_distribuicao_medio|\n",
      "+------+------+------------------------+\n",
      "|     N|    AC|              5.03100000|\n",
      "|     N|    RR|              4.90800000|\n",
      "|    SE|    ES|              4.87740000|\n",
      "|    NE|    AL|              4.87720000|\n",
      "|    NE|    CE|              4.86730769|\n",
      "|     N|    AM|              4.86640000|\n",
      "|    NE|    RN|              4.85850000|\n",
      "|    CO|    MS|              4.85714286|\n",
      "|    NE|    SE|              4.83850000|\n",
      "|    CO|    MT|              4.82442857|\n",
      "|     N|    RO|              4.82300000|\n",
      "|     N|    AP|              4.80850000|\n",
      "|     N|    PA|              4.80225000|\n",
      "|    CO|    DF|              4.79400000|\n",
      "|     N|    TO|              4.77160000|\n",
      "|    NE|    BA|              4.77043333|\n",
      "|    NE|    PI|              4.76750000|\n",
      "|    NE|    PB|              4.72750000|\n",
      "|    SE|    RJ|              4.72171875|\n",
      "|     S|    SC|              4.72171429|\n",
      "+------+------+------------------------+\n",
      "only showing top 20 rows\n",
      "\n"
     ]
    },
    {
     "name": "stderr",
     "output_type": "stream",
     "text": [
      "                                                                                \r"
     ]
    }
   ],
   "source": [
    "from pyspark.sql import functions as F\n",
    "\n",
    "df_result = (\n",
    "    spark.table('precos_anp.media_distribuicao_combustiveis_automotivos')\n",
    "    .select(\"regiao\", \"estado\", \"valor_distribuicao_medio\")\n",
    "    .filter((F.col(\"mes\") == '2023-06') & (F.col(\"produto\") == 'GASOLINA'))\n",
    "    .orderBy(\"valor_distribuicao_medio\", ascending=False)\n",
    ")\n",
    "\n",
    "df_result.show()"
   ]
  },
  {
   "cell_type": "markdown",
   "id": "a1a66539-6254-4777-9ab3-1746555abddd",
   "metadata": {},
   "source": [
    "### 4. Qual o ágio médio entre os preços de revenda e distribuição de combustíveis por mês, produto, estado?\n",
    "\n",
    "Combinamos as duas tabelas para calcular a razão preço de revenda / preço de distribuição.\n",
    "\n",
    "Exemplo de execução para o preço da gasolina no último mês da série."
   ]
  },
  {
   "cell_type": "code",
   "execution_count": 23,
   "id": "6e13a32c-31fd-461f-a197-d427f13ac395",
   "metadata": {},
   "outputs": [
    {
     "name": "stderr",
     "output_type": "stream",
     "text": [
      "[Stage 43:>                                                         (0 + 1) / 1]\r"
     ]
    },
    {
     "name": "stdout",
     "output_type": "stream",
     "text": [
      "+-------+------+------+--------+--------------------+\n",
      "|    mes|regiao|estado| produto|    agio_preco_medio|\n",
      "+-------+------+------+--------+--------------------+\n",
      "|2023-06|     N|    AM|GASOLINA|1.273292074223245...|\n",
      "|2023-06|     N|    RO|GASOLINA|1.225693342318059...|\n",
      "|2023-06|     N|    AC|GASOLINA|1.212454611409262...|\n",
      "|2023-06|     N|    TO|GASOLINA|1.176442599966468...|\n",
      "|2023-06|    NE|    RN|GASOLINA|1.175197795615930...|\n",
      "|2023-06|     S|    SC|GASOLINA|1.175124045889697...|\n",
      "|2023-06|     S|    PR|GASOLINA|1.172031398766201...|\n",
      "|2023-06|     N|    RR|GASOLINA|1.170148378158109...|\n",
      "|2023-06|    NE|    BA|GASOLINA|1.168343692165172...|\n",
      "|2023-06|     S|    RS|GASOLINA|1.154487663521395...|\n",
      "|2023-06|    SE|    SP|GASOLINA|1.154090416722058...|\n",
      "|2023-06|    CO|    GO|GASOLINA|1.151659889770844...|\n",
      "|2023-06|    NE|    PE|GASOLINA|1.149338792825854...|\n",
      "|2023-06|    SE|    RJ|GASOLINA|1.147539874118931...|\n",
      "|2023-06|    SE|    ES|GASOLINA|1.145451396235699...|\n",
      "|2023-06|     N|    PA|GASOLINA|1.141146056535998...|\n",
      "|2023-06|    NE|    AL|GASOLINA|1.138793889936849...|\n",
      "|2023-06|    CO|    DF|GASOLINA|1.131622861910721...|\n",
      "|2023-06|    NE|    MA|GASOLINA|1.129597096024861...|\n",
      "|2023-06|    SE|    MG|GASOLINA|1.129218005476346...|\n",
      "+-------+------+------+--------+--------------------+\n",
      "only showing top 20 rows\n",
      "\n"
     ]
    },
    {
     "name": "stderr",
     "output_type": "stream",
     "text": [
      "                                                                                \r"
     ]
    }
   ],
   "source": [
    "df_result = (\n",
    "    spark.table(\"precos_anp.media_venda_combustiveis_automotivos\").alias(\"v\")\n",
    "    .join(\n",
    "        spark.table(\"precos_anp.media_distribuicao_combustiveis_automotivos\").alias(\"d\"),\n",
    "        (F.col(\"v.mes\") == F.col(\"d.mes\")) & \n",
    "        (F.col(\"v.regiao\") == F.col(\"d.regiao\")) & \n",
    "        (F.col(\"v.estado\") == F.col(\"d.estado\")) & \n",
    "        (F.col(\"v.produto\") == F.col(\"d.produto\"))\n",
    "    )\n",
    "    .filter((F.col(\"v.mes\") == '2023-06') & (F.col(\"v.produto\") == 'GASOLINA'))\n",
    "    .select(\n",
    "        F.col(\"v.mes\"), \n",
    "        F.col(\"v.regiao\"), \n",
    "        F.col(\"v.estado\"), \n",
    "        F.col(\"v.produto\"),\n",
    "        (F.col(\"v.valor_venda_medio\") / F.col(\"d.valor_distribuicao_medio\")).alias(\"agio_preco_medio\")\n",
    "    )\n",
    "    .orderBy(\"agio_preco_medio\", ascending=False)\n",
    ")\n",
    "\n",
    "df_result.show()"
   ]
  },
  {
   "cell_type": "markdown",
   "id": "944d87fd-f469-4e42-824b-e7d3f26a121d",
   "metadata": {},
   "source": [
    "### 5. Em quais estados é mais vantajoso abastecer o carro com etanol?\n",
    "\n",
    "Diz-se que se o preço do etanol está menor do que 70% do preço da gasolina, é mais vantajoso abastecer com etanol.\n",
    "\n",
    "Podemos então consultar a razão entre os preços médios de revenda do etanol e da gasolina."
   ]
  },
  {
   "cell_type": "code",
   "execution_count": 27,
   "id": "7e21f9c1-041a-41d5-b40f-8ce0442d0312",
   "metadata": {},
   "outputs": [
    {
     "name": "stderr",
     "output_type": "stream",
     "text": [
      "[Stage 45:>                                                         (0 + 1) / 1]\r"
     ]
    },
    {
     "name": "stdout",
     "output_type": "stream",
     "text": [
      "+-------+------+------+---------------------+\n",
      "|    mes|regiao|estado|razao_etanol_gasolina|\n",
      "+-------+------+------+---------------------+\n",
      "|2023-06|     N|    AP| 1.030704033246293...|\n",
      "|2023-06|     S|    RS| 0.885060910470631...|\n",
      "|2023-06|     N|    RR| 0.881929684576812...|\n",
      "|2023-06|    NE|    MA| 0.879345178385414...|\n",
      "|2023-06|     N|    PA| 0.848628536797618...|\n",
      "|2023-06|    NE|    CE| 0.837197902972522...|\n",
      "|2023-06|     S|    SC| 0.833240311069458...|\n",
      "|2023-06|     N|    RO| 0.832856064292199...|\n",
      "|2023-06|    NE|    PI| 0.817529434254434...|\n",
      "|2023-06|    NE|    RN| 0.816962007393143...|\n",
      "|2023-06|    NE|    AL| 0.815443875201121...|\n",
      "|2023-06|    NE|    SE| 0.811826172936658...|\n",
      "|2023-06|     N|    TO| 0.807027796749704...|\n",
      "|2023-06|    SE|    RJ| 0.799463174888690...|\n",
      "|2023-06|    SE|    ES| 0.792597311592010...|\n",
      "|2023-06|    NE|    PE| 0.791263065929456...|\n",
      "|2023-06|    NE|    BA| 0.786031473487201...|\n",
      "|2023-06|     N|    AC| 0.783112344487495...|\n",
      "|2023-06|    NE|    PB| 0.782798912399152...|\n",
      "|2023-06|     S|    PR| 0.740610939900514...|\n",
      "+-------+------+------+---------------------+\n",
      "only showing top 20 rows\n",
      "\n"
     ]
    },
    {
     "name": "stderr",
     "output_type": "stream",
     "text": [
      "                                                                                \r"
     ]
    }
   ],
   "source": [
    "df_gasolina = (\n",
    "    spark.table(\"precos_anp.media_venda_combustiveis_automotivos\")\n",
    "    .filter(F.col(\"produto\") == \"GASOLINA\")\n",
    ")\n",
    "\n",
    "df_etanol = (\n",
    "    spark.table(\"precos_anp.media_venda_combustiveis_automotivos\")\n",
    "    .filter(F.col(\"produto\") == \"ETANOL\")\n",
    ")\n",
    "\n",
    "df_result = (\n",
    "    df_gasolina.alias(\"g\")\n",
    "    .join(\n",
    "        df_etanol.alias(\"e\"),\n",
    "        (F.col(\"g.mes\") == F.col(\"e.mes\")) & \n",
    "        (F.col(\"g.regiao\") == F.col(\"e.regiao\")) & \n",
    "        (F.col(\"g.estado\") == F.col(\"e.estado\"))\n",
    "    )\n",
    "    .filter(F.col(\"g.mes\") == '2023-06')\n",
    "    .select(\n",
    "        F.col(\"g.mes\"), \n",
    "        F.col(\"g.regiao\"), \n",
    "        F.col(\"g.estado\"),\n",
    "        (F.col(\"e.valor_venda_medio\") / F.col(\"g.valor_venda_medio\")).alias(\"razao_etanol_gasolina\")\n",
    "    )\n",
    "    .orderBy(\"razao_etanol_gasolina\", ascending=False)\n",
    ")\n",
    "\n",
    "df_result.show()"
   ]
  }
 ],
 "metadata": {
  "kernelspec": {
   "display_name": "PySpark",
   "language": "python",
   "name": "pyspark"
  },
  "language_info": {
   "codemirror_mode": {
    "name": "ipython",
    "version": 3
   },
   "file_extension": ".py",
   "mimetype": "text/x-python",
   "name": "python",
   "nbconvert_exporter": "python",
   "pygments_lexer": "ipython3",
   "version": "3.10.8"
  }
 },
 "nbformat": 4,
 "nbformat_minor": 5
}
