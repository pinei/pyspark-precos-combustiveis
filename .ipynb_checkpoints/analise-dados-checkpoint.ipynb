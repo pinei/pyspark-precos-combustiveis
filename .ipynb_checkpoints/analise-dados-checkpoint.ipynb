{
 "cells": [
  {
   "cell_type": "markdown",
   "id": "83e89c6f-fd86-4a00-a408-7b7408fb996a",
   "metadata": {},
   "source": [
    "Projeto em PySpark para dados de preços de combustíveis da ANP.\n",
    "\n",
    "O trabalho faz uso de dados publicados pela ANP (Agência Nacional de Petróleo)\n",
    "\n",
    "> Em cumprimento às determinações da Lei do Petróleo (Lei nº 9478/1997, artigo 8º), a ANP acompanha os preços praticados por revendedores de combustíveis automotivos e de gás liquefeito de petróleo envasilhado em botijões de 13 quilos (GLP P13), por meio de uma pesquisa semanal de preços realizada por empresa contratada.\n",
    "\n",
    "- [Série Histórica de Preços de Combustíveis e de GLP](https://www.gov.br/anp/pt-br/centrais-de-conteudo/dados-abertos/serie-historica-de-precos-de-combustiveis)\n",
    "\n",
    "Coletamos a série histórica de \"Combustíveis automotivos\" que vai de 2004 a 2023. São 39 arquivos CSV totalizando aproximadamente 3.7 GB.\n",
    "\n",
    "![Amostra dos dados](./assets/amostra_planilha_revenda.png)"
   ]
  },
  {
   "cell_type": "markdown",
   "id": "a77acdcc-ce95-4c24-b234-15a5b5ac5b8d",
   "metadata": {},
   "source": [
    "\n",
    "Aproveitando a configuração de cluster da Google Cloud Platform criada para o [projeto Hadoop](https://github.com/pinei/hadoop-precos-combustiveis), incluímos o JupyterLab para trabalhar com o PySpark.\n",
    "\n",
    "![cluster-info](./assets/cluster_info.png)"
   ]
  },
  {
   "cell_type": "markdown",
   "id": "65a0f7c5-47e4-4d38-855d-63edb15a9667",
   "metadata": {},
   "source": [
    "### Ingestão\n",
    "\n",
    "Os arquivos CSV já estão organizados em um bucket do Google Cloud Storage.\n",
    "\n",
    "> `https://console.cloud.google.com/storage/browser/hadoop-dados-brutos`\n",
    "\n",
    "Optamos por usar uma API Python para trazer os arquivos do storage e trabalhar com eles no cluster ou na máquina local (a depender de como estamos executando este notebook)."
   ]
  },
  {
   "cell_type": "code",
   "execution_count": 1,
   "id": "723d50f2-6aad-4cf0-bc17-d93441c3f0af",
   "metadata": {},
   "outputs": [
    {
     "name": "stdout",
     "output_type": "stream",
     "text": [
      "Requirement already satisfied: google-cloud-storage in /opt/conda/miniconda3/lib/python3.10/site-packages (2.5.0)\n",
      "Requirement already satisfied: google-auth<3.0dev,>=1.25.0 in /opt/conda/miniconda3/lib/python3.10/site-packages (from google-cloud-storage) (2.23.2)\n",
      "Requirement already satisfied: google-api-core!=2.0.*,!=2.1.*,!=2.2.*,!=2.3.0,<3.0.0dev,>=1.31.5 in /opt/conda/miniconda3/lib/python3.10/site-packages (from google-cloud-storage) (2.12.0)\n",
      "Requirement already satisfied: google-cloud-core<3.0dev,>=2.3.0 in /opt/conda/miniconda3/lib/python3.10/site-packages (from google-cloud-storage) (2.3.3)\n",
      "Requirement already satisfied: google-resumable-media>=2.3.2 in /opt/conda/miniconda3/lib/python3.10/site-packages (from google-cloud-storage) (2.6.0)\n",
      "Requirement already satisfied: requests<3.0.0dev,>=2.18.0 in /opt/conda/miniconda3/lib/python3.10/site-packages (from google-cloud-storage) (2.28.2)\n",
      "Requirement already satisfied: googleapis-common-protos<2.0.dev0,>=1.56.2 in /opt/conda/miniconda3/lib/python3.10/site-packages (from google-api-core!=2.0.*,!=2.1.*,!=2.2.*,!=2.3.0,<3.0.0dev,>=1.31.5->google-cloud-storage) (1.60.0)\n",
      "Requirement already satisfied: protobuf!=3.20.0,!=3.20.1,!=4.21.0,!=4.21.1,!=4.21.2,!=4.21.3,!=4.21.4,!=4.21.5,<5.0.0.dev0,>=3.19.5 in /opt/conda/miniconda3/lib/python3.10/site-packages (from google-api-core!=2.0.*,!=2.1.*,!=2.2.*,!=2.3.0,<3.0.0dev,>=1.31.5->google-cloud-storage) (4.21.12)\n",
      "Requirement already satisfied: cachetools<6.0,>=2.0.0 in /opt/conda/miniconda3/lib/python3.10/site-packages (from google-auth<3.0dev,>=1.25.0->google-cloud-storage) (5.3.1)\n",
      "Requirement already satisfied: pyasn1-modules>=0.2.1 in /opt/conda/miniconda3/lib/python3.10/site-packages (from google-auth<3.0dev,>=1.25.0->google-cloud-storage) (0.3.0)\n",
      "Requirement already satisfied: rsa<5,>=3.1.4 in /opt/conda/miniconda3/lib/python3.10/site-packages (from google-auth<3.0dev,>=1.25.0->google-cloud-storage) (4.9)\n",
      "Requirement already satisfied: google-crc32c<2.0dev,>=1.0 in /opt/conda/miniconda3/lib/python3.10/site-packages (from google-resumable-media>=2.3.2->google-cloud-storage) (1.1.2)\n",
      "Requirement already satisfied: charset-normalizer<4,>=2 in /opt/conda/miniconda3/lib/python3.10/site-packages (from requests<3.0.0dev,>=2.18.0->google-cloud-storage) (3.3.0)\n",
      "Requirement already satisfied: idna<4,>=2.5 in /opt/conda/miniconda3/lib/python3.10/site-packages (from requests<3.0.0dev,>=2.18.0->google-cloud-storage) (3.4)\n",
      "Requirement already satisfied: urllib3<1.27,>=1.21.1 in /opt/conda/miniconda3/lib/python3.10/site-packages (from requests<3.0.0dev,>=2.18.0->google-cloud-storage) (1.26.17)\n",
      "Requirement already satisfied: certifi>=2017.4.17 in /opt/conda/miniconda3/lib/python3.10/site-packages (from requests<3.0.0dev,>=2.18.0->google-cloud-storage) (2023.7.22)\n",
      "Requirement already satisfied: cffi>=1.0.0 in /opt/conda/miniconda3/lib/python3.10/site-packages (from google-crc32c<2.0dev,>=1.0->google-resumable-media>=2.3.2->google-cloud-storage) (1.16.0)\n",
      "Requirement already satisfied: pyasn1<0.6.0,>=0.4.6 in /opt/conda/miniconda3/lib/python3.10/site-packages (from pyasn1-modules>=0.2.1->google-auth<3.0dev,>=1.25.0->google-cloud-storage) (0.5.0)\n",
      "Requirement already satisfied: pycparser in /opt/conda/miniconda3/lib/python3.10/site-packages (from cffi>=1.0.0->google-crc32c<2.0dev,>=1.0->google-resumable-media>=2.3.2->google-cloud-storage) (2.21)\n",
      "\u001b[33mWARNING: Running pip as the 'root' user can result in broken permissions and conflicting behaviour with the system package manager. It is recommended to use a virtual environment instead: https://pip.pypa.io/warnings/venv\u001b[0m\u001b[33m\n",
      "\u001b[0m"
     ]
    }
   ],
   "source": [
    "!pip install google-cloud-storage"
   ]
  },
  {
   "cell_type": "markdown",
   "id": "156074f0-55ab-45fd-8f17-aca6a9b7289a",
   "metadata": {},
   "source": [
    "A API precisa de uma chave para autenticação no serviço.\n",
    "\n",
    "Passo a passo para gerar a chave:\n",
    "- Console do Google Cloud Platform\n",
    "- APIs e Serviços > Credenciais\n",
    "- Criar Conta de Serviço\n",
    "- Criar Chave do tipo JSON\n",
    "\n",
    "> \"É feito o download de um arquivo contendo a chave privada. Armazene o arquivo com segurança porque essa chave não pode ser recuperada em caso de perda.\"\n",
    "\n",
    "Subimos o arquivo JSON para uma pasta de trabalho no cluster:\n",
    "\n",
    "> `/home/aldinei_bastos/work/seventh-abacus-395221-52fc140a5609.json`"
   ]
  },
  {
   "cell_type": "code",
   "execution_count": 2,
   "id": "41df3e0e-08d8-4d71-8009-b7f58ce58b33",
   "metadata": {},
   "outputs": [],
   "source": [
    "import os\n",
    "\n",
    "os.environ[\"GOOGLE_APPLICATION_CREDENTIALS\"] = \"/home/aldinei_bastos/work/seventh-abacus-395221-52fc140a5609.json\""
   ]
  },
  {
   "cell_type": "code",
   "execution_count": 4,
   "id": "7269daf2-2ebf-4d57-85cf-2356a2ca6c94",
   "metadata": {},
   "outputs": [
    {
     "data": {
      "text/plain": [
       "[<Blob: hadoop-dados-brutos, anp-combustiveis-automotivos/, 1693781005419814>,\n",
       " <Blob: hadoop-dados-brutos, anp-combustiveis-automotivos/ca-2004-01.csv, 1693781239357851>,\n",
       " <Blob: hadoop-dados-brutos, anp-combustiveis-automotivos/ca-2004-02.csv, 1693781397853813>,\n",
       " <Blob: hadoop-dados-brutos, anp-combustiveis-automotivos/ca-2005-01.csv, 1693781399574637>,\n",
       " <Blob: hadoop-dados-brutos, anp-combustiveis-automotivos/ca-2005-02.csv, 1693781397708461>,\n",
       " <Blob: hadoop-dados-brutos, anp-combustiveis-automotivos/ca-2006-01.csv, 1693781398243286>,\n",
       " <Blob: hadoop-dados-brutos, anp-combustiveis-automotivos/ca-2006-02.csv, 1693781398142808>,\n",
       " <Blob: hadoop-dados-brutos, anp-combustiveis-automotivos/ca-2007-01.csv, 1693781395022902>,\n",
       " <Blob: hadoop-dados-brutos, anp-combustiveis-automotivos/ca-2007-02.csv, 1693781398311389>,\n",
       " <Blob: hadoop-dados-brutos, anp-combustiveis-automotivos/ca-2008-01.csv, 1693781397510159>,\n",
       " <Blob: hadoop-dados-brutos, anp-combustiveis-automotivos/ca-2008-02.csv, 1693781398725644>,\n",
       " <Blob: hadoop-dados-brutos, anp-combustiveis-automotivos/ca-2009-01.csv, 1693781396903524>,\n",
       " <Blob: hadoop-dados-brutos, anp-combustiveis-automotivos/ca-2009-02.csv, 1693781399332015>,\n",
       " <Blob: hadoop-dados-brutos, anp-combustiveis-automotivos/ca-2010-01.csv, 1693781396798941>,\n",
       " <Blob: hadoop-dados-brutos, anp-combustiveis-automotivos/ca-2010-02.csv, 1693781394972558>,\n",
       " <Blob: hadoop-dados-brutos, anp-combustiveis-automotivos/ca-2011-01.csv, 1693781395511546>,\n",
       " <Blob: hadoop-dados-brutos, anp-combustiveis-automotivos/ca-2011-02.csv, 1693781398381868>,\n",
       " <Blob: hadoop-dados-brutos, anp-combustiveis-automotivos/ca-2012-01.csv, 1693781397727164>,\n",
       " <Blob: hadoop-dados-brutos, anp-combustiveis-automotivos/ca-2012-02.csv, 1693781397481250>,\n",
       " <Blob: hadoop-dados-brutos, anp-combustiveis-automotivos/ca-2013-01.csv, 1693781395489579>,\n",
       " <Blob: hadoop-dados-brutos, anp-combustiveis-automotivos/ca-2013-02.csv, 1693781397154349>,\n",
       " <Blob: hadoop-dados-brutos, anp-combustiveis-automotivos/ca-2014-01.csv, 1693781398105663>,\n",
       " <Blob: hadoop-dados-brutos, anp-combustiveis-automotivos/ca-2014-02.csv, 1693781395024124>,\n",
       " <Blob: hadoop-dados-brutos, anp-combustiveis-automotivos/ca-2015-01.csv, 1693781394795873>,\n",
       " <Blob: hadoop-dados-brutos, anp-combustiveis-automotivos/ca-2015-02.csv, 1693781396435277>,\n",
       " <Blob: hadoop-dados-brutos, anp-combustiveis-automotivos/ca-2016-01.csv, 1693781398180125>,\n",
       " <Blob: hadoop-dados-brutos, anp-combustiveis-automotivos/ca-2016-02.csv, 1693781402222740>,\n",
       " <Blob: hadoop-dados-brutos, anp-combustiveis-automotivos/ca-2017-01.csv, 1693781399563611>,\n",
       " <Blob: hadoop-dados-brutos, anp-combustiveis-automotivos/ca-2017-02.csv, 1693781399069869>,\n",
       " <Blob: hadoop-dados-brutos, anp-combustiveis-automotivos/ca-2018-01.csv, 1693781397978311>,\n",
       " <Blob: hadoop-dados-brutos, anp-combustiveis-automotivos/ca-2018-02.csv, 1693781396118663>,\n",
       " <Blob: hadoop-dados-brutos, anp-combustiveis-automotivos/ca-2019-01.csv, 1693781397341382>,\n",
       " <Blob: hadoop-dados-brutos, anp-combustiveis-automotivos/ca-2019-02.csv, 1693781396351786>,\n",
       " <Blob: hadoop-dados-brutos, anp-combustiveis-automotivos/ca-2020-01.csv, 1693781398215772>,\n",
       " <Blob: hadoop-dados-brutos, anp-combustiveis-automotivos/ca-2020-02.csv, 1693781395103789>,\n",
       " <Blob: hadoop-dados-brutos, anp-combustiveis-automotivos/ca-2021-01.csv, 1693781398387517>,\n",
       " <Blob: hadoop-dados-brutos, anp-combustiveis-automotivos/ca-2021-02.csv, 1693781399539579>,\n",
       " <Blob: hadoop-dados-brutos, anp-combustiveis-automotivos/ca-2022-01.csv, 1693781399552944>,\n",
       " <Blob: hadoop-dados-brutos, anp-combustiveis-automotivos/ca-2022-02.csv, 1693781398198628>,\n",
       " <Blob: hadoop-dados-brutos, anp-combustiveis-automotivos/ca-2023-01.csv, 1693781397325408>,\n",
       " <Blob: hadoop-dados-brutos, anp-combustiveis-automotivos/combustiveis-liquidos-municipios.csv, 1693849151570744>]"
      ]
     },
     "metadata": {},
     "output_type": "display_data"
    }
   ],
   "source": [
    "from google.cloud import storage\n",
    "\n",
    "# Inicializa o cliente\n",
    "storage_client = storage.Client()\n",
    "\n",
    "# Lista todos os buckets\n",
    "buckets = list(storage_client.list_buckets())\n",
    "\n",
    "# Obtem um bucket específico\n",
    "bucket = storage_client.get_bucket('hadoop-dados-brutos')\n",
    "blobs = list(bucket.list_blobs())\n",
    "\n",
    "display(blobs)"
   ]
  },
  {
   "cell_type": "code",
   "execution_count": null,
   "id": "5ca1eeb5-9230-4b6b-a1e1-0e184b1239c7",
   "metadata": {},
   "outputs": [],
   "source": [
    "Podemos "
   ]
  },
  {
   "cell_type": "code",
   "execution_count": 5,
   "id": "6f77c76c-0116-4856-a375-3f36695b3c24",
   "metadata": {},
   "outputs": [
    {
     "name": "stdout",
     "output_type": "stream",
     "text": [
      "Downloading anp-combustiveis-automotivos/ca-2004-01.csv\n",
      "Downloading anp-combustiveis-automotivos/ca-2004-02.csv\n",
      "Downloading anp-combustiveis-automotivos/ca-2005-01.csv\n",
      "Downloading anp-combustiveis-automotivos/ca-2005-02.csv\n",
      "Downloading anp-combustiveis-automotivos/ca-2006-01.csv\n",
      "Downloading anp-combustiveis-automotivos/ca-2006-02.csv\n",
      "Downloading anp-combustiveis-automotivos/ca-2007-01.csv\n",
      "Downloading anp-combustiveis-automotivos/ca-2007-02.csv\n",
      "Downloading anp-combustiveis-automotivos/ca-2008-01.csv\n",
      "Downloading anp-combustiveis-automotivos/ca-2008-02.csv\n",
      "Downloading anp-combustiveis-automotivos/ca-2009-01.csv\n",
      "Downloading anp-combustiveis-automotivos/ca-2009-02.csv\n",
      "Downloading anp-combustiveis-automotivos/ca-2010-01.csv\n",
      "Downloading anp-combustiveis-automotivos/ca-2010-02.csv\n",
      "Downloading anp-combustiveis-automotivos/ca-2011-01.csv\n",
      "Downloading anp-combustiveis-automotivos/ca-2011-02.csv\n",
      "Downloading anp-combustiveis-automotivos/ca-2012-01.csv\n",
      "Downloading anp-combustiveis-automotivos/ca-2012-02.csv\n",
      "Downloading anp-combustiveis-automotivos/ca-2013-01.csv\n",
      "Downloading anp-combustiveis-automotivos/ca-2013-02.csv\n",
      "Downloading anp-combustiveis-automotivos/ca-2014-01.csv\n",
      "Downloading anp-combustiveis-automotivos/ca-2014-02.csv\n",
      "Downloading anp-combustiveis-automotivos/ca-2015-01.csv\n",
      "Downloading anp-combustiveis-automotivos/ca-2015-02.csv\n",
      "Downloading anp-combustiveis-automotivos/ca-2016-01.csv\n",
      "Downloading anp-combustiveis-automotivos/ca-2016-02.csv\n",
      "Downloading anp-combustiveis-automotivos/ca-2017-01.csv\n",
      "Downloading anp-combustiveis-automotivos/ca-2017-02.csv\n",
      "Downloading anp-combustiveis-automotivos/ca-2018-01.csv\n",
      "Downloading anp-combustiveis-automotivos/ca-2018-02.csv\n",
      "Downloading anp-combustiveis-automotivos/ca-2019-01.csv\n",
      "Downloading anp-combustiveis-automotivos/ca-2019-02.csv\n",
      "Downloading anp-combustiveis-automotivos/ca-2020-01.csv\n",
      "Downloading anp-combustiveis-automotivos/ca-2020-02.csv\n",
      "Downloading anp-combustiveis-automotivos/ca-2021-01.csv\n",
      "Downloading anp-combustiveis-automotivos/ca-2021-02.csv\n",
      "Downloading anp-combustiveis-automotivos/ca-2022-01.csv\n",
      "Downloading anp-combustiveis-automotivos/ca-2022-02.csv\n",
      "Downloading anp-combustiveis-automotivos/ca-2023-01.csv\n",
      "Downloading anp-combustiveis-automotivos/combustiveis-liquidos-municipios.csv\n"
     ]
    }
   ],
   "source": [
    "import re\n",
    "import os\n",
    "\n",
    "def download_blob(blob):\n",
    "    file_path = f'../work/{blob.name}'\n",
    "        \n",
    "    # Cria a pasta se não existir\n",
    "    dir_name = os.path.dirname(file_path)\n",
    "    if not os.path.exists(dir_name):\n",
    "        os.makedirs(dir_name)\n",
    "        \n",
    "    # Download\n",
    "    blob.download_to_filename(file_path)    \n",
    "\n",
    "for blob in blobs:\n",
    "    # Se arquivo CSV\n",
    "    if re.search(r'.csv$', blob.name):\n",
    "        print(f'Downloading {blob.name}')\n",
    "        download_blob(blob)\n"
   ]
  }
 ],
 "metadata": {
  "kernelspec": {
   "display_name": "PySpark",
   "language": "python",
   "name": "pyspark"
  },
  "language_info": {
   "codemirror_mode": {
    "name": "ipython",
    "version": 3
   },
   "file_extension": ".py",
   "mimetype": "text/x-python",
   "name": "python",
   "nbconvert_exporter": "python",
   "pygments_lexer": "ipython3",
   "version": "3.10.8"
  }
 },
 "nbformat": 4,
 "nbformat_minor": 5
}
