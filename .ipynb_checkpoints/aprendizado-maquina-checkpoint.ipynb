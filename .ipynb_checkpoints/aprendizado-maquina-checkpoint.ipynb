{
 "cells": [
  {
   "cell_type": "markdown",
   "id": "518148e0-db90-4eed-bd34-423ef766698e",
   "metadata": {},
   "source": [
    "## Projeto\n",
    "\n",
    "Esse projeto em PySpark faz uso de uma base de dados de preços de combustíveis e indicadores de mercado para rodar modelos de aprendizado de máquina sobre séries temporais.\n",
    "\n",
    "O objetivo é explicar variações de preços de distribuição ou revenda dos combustíveis a partir dos preços internacionais."
   ]
  },
  {
   "cell_type": "code",
   "execution_count": 1,
   "id": "8d55ffb7-521c-4be7-9cc9-5f288ffd003e",
   "metadata": {},
   "outputs": [
    {
     "name": "stderr",
     "output_type": "stream",
     "text": [
      "23/10/14 06:56:42 WARN SparkSession: Using an existing Spark session; only runtime SQL configurations will take effect.\n"
     ]
    }
   ],
   "source": [
    "from pyspark.sql import SparkSession\n",
    "\n",
    "spark = ( SparkSession\n",
    "    .builder\n",
    "    .appName(\"analise-dados\")\n",
    "    .config(\"spark.jars\", \"https://storage.googleapis.com/hadoop-lib/gcs/gcs-connector-hadoop3-latest.jar\")\n",
    "    .enableHiveSupport()\n",
    "    .getOrCreate() )\n",
    "\n",
    "spark._jsc.hadoopConfiguration().set('fs.gs.impl', 'com.google.cloud.hadoop.fs.gcs.GoogleHadoopFileSystem')"
   ]
  },
  {
   "cell_type": "code",
   "execution_count": 1,
   "id": "184f5321-f491-4911-b445-b8a1b17efc38",
   "metadata": {},
   "outputs": [
    {
     "name": "stderr",
     "output_type": "stream",
     "text": [
      "ivysettings.xml file not found in HIVE_HOME or HIVE_CONF_DIR,/etc/hive/conf.dist/ivysettings.xml will be used\n",
      "                                                                                \r"
     ]
    },
    {
     "data": {
      "text/plain": [
       "[Database(name='default', description='Default Hive database', locationUri='gs://hadoop-dados-brutos/spark-warehouse'),\n",
       " Database(name='precos_anp', description='Base de dados de preços de combustíveis fornecidos pela ANP e alguns indicadores de mercado', locationUri='gs://hadoop-dados-brutos/spark-warehouse/precos_anp.db'),\n",
       " Database(name='precos_mkt', description='Base de dados de preços e indices de mercado', locationUri='gs://hadoop-dados-brutos/spark-warehouse/precos_mkt.db')]"
      ]
     },
     "execution_count": 1,
     "metadata": {},
     "output_type": "execute_result"
    }
   ],
   "source": [
    "spark.catalog.listDatabases()"
   ]
  },
  {
   "cell_type": "code",
   "execution_count": 4,
   "id": "953d2993-5f22-4be1-b955-b7a496a87398",
   "metadata": {},
   "outputs": [
    {
     "name": "stdout",
     "output_type": "stream",
     "text": [
      "root\n",
      " |-- regiao: string (nullable = true)\n",
      " |-- estado: string (nullable = true)\n",
      " |-- municipio: string (nullable = true)\n",
      " |-- revenda: string (nullable = true)\n",
      " |-- cnpj_revenda: string (nullable = true)\n",
      " |-- endereco_rua: string (nullable = true)\n",
      " |-- endereco_numero: string (nullable = true)\n",
      " |-- endereco_complemento: string (nullable = true)\n",
      " |-- endereco_bairro: string (nullable = true)\n",
      " |-- endereco_cep: string (nullable = true)\n",
      " |-- produto: string (nullable = true)\n",
      " |-- data: date (nullable = true)\n",
      " |-- valor_venda: decimal(10,4) (nullable = true)\n",
      " |-- valor_compra: decimal(10,4) (nullable = true)\n",
      " |-- unidade_medida: string (nullable = true)\n",
      " |-- bandeira: string (nullable = true)\n",
      " |-- mes: string (nullable = true)\n",
      "\n"
     ]
    }
   ],
   "source": [
    "spark.table('precos_anp.combustiveis_automotivos').printSchema()"
   ]
  },
  {
   "cell_type": "code",
   "execution_count": 8,
   "id": "6bf1cdb4-7c19-48b5-a4bb-f654056690a8",
   "metadata": {},
   "outputs": [],
   "source": [
    "from pyspark.sql import functions as F\n",
    "\n",
    "produto = \"GASOLINA\"\n",
    "estado = \"SP\"\n",
    "\n",
    "df_valor_venda_medio_produto_estado = (\n",
    "    spark.table('precos_anp.combustiveis_automotivos')\n",
    "    .filter((F.col(\"produto\") == produto) & (F.col(\"estado\") == estado))\n",
    "    .groupBy(\"data\")\n",
    "    .agg(F.avg(\"valor_venda\").alias(\"valor_venda_medio\"))\n",
    "    .orderBy(\"data\")\n",
    ")"
   ]
  },
  {
   "cell_type": "code",
   "execution_count": 9,
   "id": "6b3f9f15-b42d-4e5b-bfd9-5450f0a3b898",
   "metadata": {},
   "outputs": [
    {
     "name": "stderr",
     "output_type": "stream",
     "text": [
      "[Stage 5:>                                                          (0 + 1) / 1]\r"
     ]
    },
    {
     "name": "stdout",
     "output_type": "stream",
     "text": [
      "+----------+-----------------+\n",
      "|      data|valor_venda_medio|\n",
      "+----------+-----------------+\n",
      "|2004-05-10|       1.87326211|\n",
      "|2004-05-11|       1.86928855|\n",
      "|2004-05-12|       1.87985145|\n",
      "|2004-05-13|       1.83103774|\n",
      "|2004-05-17|       1.86697903|\n",
      "|2004-05-18|       1.87232690|\n",
      "|2004-05-19|       1.85240708|\n",
      "|2004-05-20|       1.90263636|\n",
      "|2004-05-24|       1.87149070|\n",
      "|2004-05-25|       1.88345243|\n",
      "|2004-05-26|       1.87500731|\n",
      "|2004-05-27|       1.84900000|\n",
      "|2004-05-31|       1.89168152|\n",
      "|2004-06-01|       1.91458247|\n",
      "|2004-06-02|       1.89681851|\n",
      "|2004-06-03|       1.95756818|\n",
      "|2004-06-07|       1.90364878|\n",
      "|2004-06-08|       1.91347362|\n",
      "|2004-06-09|       1.89557470|\n",
      "|2004-06-11|       1.89606452|\n",
      "+----------+-----------------+\n",
      "only showing top 20 rows\n",
      "\n"
     ]
    },
    {
     "name": "stderr",
     "output_type": "stream",
     "text": [
      "                                                                                \r"
     ]
    }
   ],
   "source": [
    "df_valor_venda_medio_produto_estado.show()"
   ]
  }
 ],
 "metadata": {
  "kernelspec": {
   "display_name": "PySpark",
   "language": "python",
   "name": "pyspark"
  },
  "language_info": {
   "codemirror_mode": {
    "name": "ipython",
    "version": 3
   },
   "file_extension": ".py",
   "mimetype": "text/x-python",
   "name": "python",
   "nbconvert_exporter": "python",
   "pygments_lexer": "ipython3",
   "version": "3.10.8"
  }
 },
 "nbformat": 4,
 "nbformat_minor": 5
}
