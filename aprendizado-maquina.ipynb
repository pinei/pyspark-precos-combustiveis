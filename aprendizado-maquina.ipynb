{
 "cells": [
  {
   "cell_type": "markdown",
   "id": "518148e0-db90-4eed-bd34-423ef766698e",
   "metadata": {},
   "source": [
    "## Projeto\n",
    "\n",
    "Esse projeto em PySpark faz uso de uma base de dados de preços de combustíveis e indicadores de mercado para rodar modelos de aprendizado de máquina sobre séries temporais.\n",
    "\n",
    "O objetivo é explicar variações de preços de distribuição ou revenda dos combustíveis"
   ]
  },
  {
   "cell_type": "code",
   "execution_count": 1,
   "id": "8d55ffb7-521c-4be7-9cc9-5f288ffd003e",
   "metadata": {},
   "outputs": [
    {
     "name": "stderr",
     "output_type": "stream",
     "text": [
      "23/10/14 02:14:59 WARN SparkSession: Using an existing Spark session; only runtime SQL configurations will take effect.\n"
     ]
    }
   ],
   "source": [
    "from pyspark.sql import SparkSession\n",
    "\n",
    "spark = ( SparkSession\n",
    "    .builder\n",
    "    .appName(\"analise-dados\")\n",
    "    .config(\"spark.jars\", \"https://storage.googleapis.com/hadoop-lib/gcs/gcs-connector-hadoop3-latest.jar\")\n",
    "    .enableHiveSupport()\n",
    "    .getOrCreate() )\n",
    "\n",
    "spark._jsc.hadoopConfiguration().set('fs.gs.impl', 'com.google.cloud.hadoop.fs.gcs.GoogleHadoopFileSystem')"
   ]
  },
  {
   "cell_type": "code",
   "execution_count": 3,
   "id": "184f5321-f491-4911-b445-b8a1b17efc38",
   "metadata": {},
   "outputs": [
    {
     "name": "stderr",
     "output_type": "stream",
     "text": [
      "ivysettings.xml file not found in HIVE_HOME or HIVE_CONF_DIR,/etc/hive/conf.dist/ivysettings.xml will be used\n",
      "                                                                                \r"
     ]
    },
    {
     "data": {
      "text/plain": [
       "[Database(name='default', description='Default Hive database', locationUri='gs://hadoop-dados-brutos/spark-warehouse'),\n",
       " Database(name='precos_anp', description='Base de dados de preços de combustíveis fornecidos pela ANP e alguns indicadores de mercado', locationUri='gs://hadoop-dados-brutos/spark-warehouse/precos_anp.db'),\n",
       " Database(name='precos_mkt', description='Base de dados de preços e indices de mercado', locationUri='gs://hadoop-dados-brutos/spark-warehouse/precos_mkt.db')]"
      ]
     },
     "execution_count": 3,
     "metadata": {},
     "output_type": "execute_result"
    }
   ],
   "source": [
    "spark.catalog.listDatabases()"
   ]
  }
 ],
 "metadata": {
  "kernelspec": {
   "display_name": "PySpark",
   "language": "python",
   "name": "pyspark"
  },
  "language_info": {
   "codemirror_mode": {
    "name": "ipython",
    "version": 3
   },
   "file_extension": ".py",
   "mimetype": "text/x-python",
   "name": "python",
   "nbconvert_exporter": "python",
   "pygments_lexer": "ipython3",
   "version": "3.10.8"
  }
 },
 "nbformat": 4,
 "nbformat_minor": 5
}
